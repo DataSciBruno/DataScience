{
 "cells": [
  {
   "cell_type": "markdown",
   "id": "c841a0b0",
   "metadata": {},
   "source": [
    "# Stock Price LSTM Model"
   ]
  },
  {
   "cell_type": "markdown",
   "id": "d33f770c",
   "metadata": {},
   "source": [
    "## Libraries"
   ]
  },
  {
   "cell_type": "code",
   "execution_count": 33,
   "id": "960b61ae",
   "metadata": {},
   "outputs": [],
   "source": [
    "import pandas as pd\n",
    "import numpy as np\n",
    "from sklearn.preprocessing import MinMaxScaler\n",
    "from keras.models import Sequential\n",
    "from keras.layers import LSTM, Dropout, Dense\n",
    "import matplotlib.pyplot as plt\n",
    "from datetime import datetime\n",
    "import yfinance as yf"
   ]
  },
  {
   "cell_type": "markdown",
   "id": "f3bce4ec",
   "metadata": {},
   "source": [
    "## Dataset"
   ]
  },
  {
   "cell_type": "code",
   "execution_count": 34,
   "id": "3c840d0e",
   "metadata": {},
   "outputs": [
    {
     "name": "stdout",
     "output_type": "stream",
     "text": [
      "Type in the stock ticker: aapl\n",
      "Type in a start date (Ex.: 2010-01-01): 2020-01-01\n",
      "[*********************100%***********************]  1 of 1 completed\n"
     ]
    }
   ],
   "source": [
    "ticker = input(\"Type in the stock ticker: \")\n",
    "start_date = input(\"Type in a start date (Ex.: 2010-01-01): \")\n",
    "\n",
    "end_date = datetime.today().strftime('%Y-%m-%d')\n",
    "\n",
    "data_downloaded = yf.download(ticker, start=start_date, end=end_date)\n",
    "data = data_downloaded"
   ]
  },
  {
   "cell_type": "markdown",
   "id": "6ceacca0",
   "metadata": {},
   "source": [
    "## Preparation"
   ]
  },
  {
   "cell_type": "code",
   "execution_count": 35,
   "id": "94bba522",
   "metadata": {},
   "outputs": [],
   "source": [
    "#drop all columns but Adj Close or else the Model won't work because of the extra columns of the dataframe\n",
    "data=data[['Adj Close']]"
   ]
  },
  {
   "cell_type": "markdown",
   "id": "fe3aba2c",
   "metadata": {},
   "source": [
    "## Stationarity"
   ]
  },
  {
   "cell_type": "code",
   "execution_count": 36,
   "id": "1524a3db",
   "metadata": {},
   "outputs": [
    {
     "name": "stdout",
     "output_type": "stream",
     "text": [
      "ADF Statistic: -1.4170216145773993\n",
      "p-value: 0.5740890879457661\n",
      "\n",
      "Critical Values:\n",
      "\n",
      "Non-stationary: ADF statistic is higher than the critical value at 1% (-3.437897435722137) level of significance.\n",
      "\n",
      "Non-stationary: ADF statistic is higher than the critical value at 5% (-2.8648716746706326) level of significance.\n",
      "\n",
      "Non-stationary: ADF statistic is higher than the critical value at 10% (-2.568544030438542) level of significance.\n",
      "\n"
     ]
    }
   ],
   "source": [
    "from statsmodels.tsa.stattools import adfuller\n",
    "from statsmodels.tsa.seasonal import seasonal_decompose\n",
    "from scipy import signal\n",
    "\n",
    "# Augmented Dickey-Fuller (ADF) Test: The ADF test is a statistical hypothesis test commonly used to determine stationarity.\n",
    "# It tests the null hypothesis that a unit root is present in the series, indicating non-stationarity. \n",
    "#If the p-value obtained from the ADF test is below a certain significance level (e.g., 0.05), we reject the null hypothesis and conclude that the series is stationary. \n",
    "#The ADF test also provides a test statistic and critical values for different significance levels to compare against the obtained test statistic.\n",
    "     \n",
    "def evaluate_stationarity(series):\n",
    "    result = adfuller(series)\n",
    "    adf_statistic = result[0]\n",
    "    p_value = result[1]\n",
    "    critical_values = result[4]\n",
    "\n",
    "    print('ADF Statistic:', adf_statistic)\n",
    "    print('p-value:', p_value)\n",
    "    print('\\nCritical Values:\\n')\n",
    "    for key, value in critical_values.items():\n",
    "        if adf_statistic < value:\n",
    "            print(f\"Stationary: ADF statistic is lower than the critical value at {key} ({value}) level of significance.\\n\")\n",
    "        else:\n",
    "            print(f\"Non-stationary: ADF statistic is higher than the critical value at {key} ({value}) level of significance.\\n\")\n",
    "\n",
    "adj_close = data['Adj Close']\n",
    "evaluate_stationarity(adj_close)"
   ]
  },
  {
   "cell_type": "markdown",
   "id": "2abfe0a2",
   "metadata": {},
   "source": [
    "## Normalize"
   ]
  },
  {
   "cell_type": "code",
   "execution_count": 37,
   "id": "fe66be3a",
   "metadata": {},
   "outputs": [],
   "source": [
    "# Normalize the data\n",
    "scaler = MinMaxScaler()\n",
    "data_scaled = scaler.fit_transform(data.values)\n",
    "fig, ax = plt.subplots()\n",
    "ax.plot(data_scaled)\n",
    "\n",
    "\n",
    "ax.set_xlabel('Time')\n",
    "ax.set_ylabel('Scaled Value')\n",
    "ax.set_title('Scaled Data')\n",
    "plt.show()"
   ]
  },
  {
   "cell_type": "markdown",
   "id": "835e3914",
   "metadata": {},
   "source": [
    "## Train & Test sizes"
   ]
  },
  {
   "cell_type": "code",
   "execution_count": 38,
   "id": "b8072aae",
   "metadata": {},
   "outputs": [],
   "source": [
    "# Split the data into train and test sets\n",
    "train_size = int(len(data_scaled) * 0.8)\n",
    "train_data = data_scaled[:train_size]\n",
    "test_data = data_scaled[train_size:]"
   ]
  },
  {
   "cell_type": "markdown",
   "id": "a8d36e1c",
   "metadata": {},
   "source": [
    "## Features"
   ]
  },
  {
   "cell_type": "code",
   "execution_count": null,
   "id": "882a6de0",
   "metadata": {},
   "outputs": [],
   "source": [
    "\n",
    "# Define the input sequence length and number of features\n",
    "n_steps = 7\n",
    "n_features = data.shape[1]"
   ]
  },
  {
   "cell_type": "markdown",
   "id": "61d2630f",
   "metadata": {},
   "source": [
    "## Input & Output"
   ]
  },
  {
   "cell_type": "code",
   "execution_count": 39,
   "id": "b2f509a9",
   "metadata": {},
   "outputs": [],
   "source": [
    "# Create the input and output data for the LSTM model\n",
    "X_train, y_train = [], []\n",
    "for i in range(n_steps, len(train_data)):\n",
    "    X_train.append(train_data[i - n_steps:i])\n",
    "    y_train.append(train_data[i, 0])\n",
    "X_train, y_train = np.array(X_train), np.array(y_train)\n",
    "\n",
    "X_test, y_test = [], []\n",
    "for i in range(n_steps, len(test_data)):\n",
    "    X_test.append(test_data[i - n_steps:i])\n",
    "    y_test.append(test_data[i, 0])\n",
    "X_test, y_test = np.array(X_test), np.array(y_test)"
   ]
  },
  {
   "cell_type": "markdown",
   "id": "e52bc55d",
   "metadata": {},
   "source": [
    "## Model"
   ]
  },
  {
   "cell_type": "code",
   "execution_count": 40,
   "id": "24c1d7a9",
   "metadata": {},
   "outputs": [
    {
     "name": "stdout",
     "output_type": "stream",
     "text": [
      "Epoch 1/10\n",
      "22/22 [==============================] - 7s 23ms/step - loss: 0.0981\n",
      "Epoch 2/10\n",
      "22/22 [==============================] - 0s 17ms/step - loss: 0.0107\n",
      "Epoch 3/10\n",
      "22/22 [==============================] - 0s 16ms/step - loss: 0.0074\n",
      "Epoch 4/10\n",
      "22/22 [==============================] - 0s 18ms/step - loss: 0.0055\n",
      "Epoch 5/10\n",
      "22/22 [==============================] - 0s 22ms/step - loss: 0.0049\n",
      "Epoch 6/10\n",
      "22/22 [==============================] - 0s 15ms/step - loss: 0.0047\n",
      "Epoch 7/10\n",
      "22/22 [==============================] - 0s 21ms/step - loss: 0.0050\n",
      "Epoch 8/10\n",
      "22/22 [==============================] - 0s 17ms/step - loss: 0.0050\n",
      "Epoch 9/10\n",
      "22/22 [==============================] - 0s 15ms/step - loss: 0.0041\n",
      "Epoch 10/10\n",
      "22/22 [==============================] - 0s 15ms/step - loss: 0.0040\n"
     ]
    },
    {
     "data": {
      "image/png": "[encoded data removed]",
      "text/plain": [
       "<Figure size 864x432 with 1 Axes>"
      ]
     },
     "metadata": {
      "needs_background": "light"
     },
     "output_type": "display_data"
    }
   ],
   "source": [
    "# Define the LSTM model\n",
    "model = Sequential()\n",
    "model.add(LSTM(units=50, activation='tanh', return_sequences=True, input_shape=(n_steps, n_features)))\n",
    "model.add(Dropout(0.2))\n",
    "model.add(LSTM(units=50, activation='tanh'))\n",
    "model.add(Dropout(0.2))\n",
    "model.add(Dense(units=1))\n",
    "\n",
    "# Compile the model\n",
    "model.compile(optimizer='adam', loss='mean_squared_error')a\n",
    "\n",
    "# Train the model\n",
    "model.fit(X_train, y_train, epochs=10, batch_size=32)\n",
    "\n",
    "# Reshape predictions to match the scaler's expected shape\n",
    "predictions = predictions.reshape(-1, 1)\n",
    "\n",
    "# Unnormalize the predictions\n",
    "predictions_unscaled = scaler.inverse_transform(predictions)\n",
    "\n",
    "# Plot the test data, predicted values, and input/output sequences\n",
    "plt.figure(figsize=(12, 6))\n",
    "plt.plot(data.index[train_size + n_steps:], data['Adj Close'].values[train_size + n_steps:], label='Actual')\n",
    "plt.plot(data.index[train_size + n_steps:], predictions_unscaled, label='Predicted')\n",
    "plt.title('Stock Price Prediction')\n",
    "plt.xlabel('Date')\n",
    "plt.ylabel('Closing Price')\n",
    "plt.legend()\n",
    "plt.show()"
   ]
  },
  {
   "cell_type": "markdown",
   "id": "8d76e6a7",
   "metadata": {},
   "source": [
    "## Prediction"
   ]
  },
  {
   "cell_type": "code",
   "execution_count": 50,
   "id": "ab9286e7",
   "metadata": {},
   "outputs": [
    {
     "name": "stdout",
     "output_type": "stream",
     "text": [
      "Number of days to predict: 45\n"
     ]
    }
   ],
   "source": [
    "days = input(\"Number of days to predict: \")\n",
    "days =int(days)"
   ]
  },
  {
   "cell_type": "code",
   "execution_count": 51,
   "id": "cd424708",
   "metadata": {},
   "outputs": [
    {
     "name": "stdout",
     "output_type": "stream",
     "text": [
      "1/1 [==============================] - 0s 39ms/step\n",
      "1/1 [==============================] - 0s 33ms/step\n",
      "1/1 [==============================] - 0s 35ms/step\n",
      "1/1 [==============================] - 0s 33ms/step\n",
      "1/1 [==============================] - 0s 33ms/step\n",
      "1/1 [==============================] - 0s 35ms/step\n",
      "1/1 [==============================] - 0s 53ms/step\n",
      "1/1 [==============================] - 0s 33ms/step\n",
      "1/1 [==============================] - 0s 34ms/step\n",
      "1/1 [==============================] - 0s 34ms/step\n",
      "1/1 [==============================] - 0s 37ms/step\n",
      "1/1 [==============================] - 0s 33ms/step\n",
      "1/1 [==============================] - 0s 32ms/step\n",
      "1/1 [==============================] - 0s 33ms/step\n",
      "1/1 [==============================] - 0s 35ms/step\n",
      "1/1 [==============================] - 0s 35ms/step\n",
      "1/1 [==============================] - 0s 37ms/step\n",
      "1/1 [==============================] - 0s 66ms/step\n",
      "1/1 [==============================] - 0s 63ms/step\n",
      "1/1 [==============================] - 0s 33ms/step\n",
      "1/1 [==============================] - 0s 36ms/step\n",
      "1/1 [==============================] - 0s 35ms/step\n",
      "1/1 [==============================] - 0s 32ms/step\n",
      "1/1 [==============================] - 0s 32ms/step\n",
      "1/1 [==============================] - 0s 33ms/step\n",
      "1/1 [==============================] - 0s 33ms/step\n",
      "1/1 [==============================] - 0s 32ms/step\n",
      "1/1 [==============================] - 0s 33ms/step\n",
      "1/1 [==============================] - 0s 34ms/step\n",
      "1/1 [==============================] - 0s 34ms/step\n",
      "1/1 [==============================] - 0s 33ms/step\n",
      "1/1 [==============================] - 0s 37ms/step\n",
      "1/1 [==============================] - 0s 34ms/step\n",
      "1/1 [==============================] - 0s 33ms/step\n",
      "1/1 [==============================] - 0s 31ms/step\n",
      "1/1 [==============================] - 0s 52ms/step\n",
      "1/1 [==============================] - 0s 44ms/step\n",
      "1/1 [==============================] - 0s 45ms/step\n",
      "1/1 [==============================] - 0s 40ms/step\n",
      "1/1 [==============================] - 0s 47ms/step\n",
      "1/1 [==============================] - 0s 52ms/step\n",
      "1/1 [==============================] - 0s 42ms/step\n",
      "1/1 [==============================] - 0s 40ms/step\n",
      "1/1 [==============================] - 0s 44ms/step\n",
      "1/1 [==============================] - 0s 38ms/step\n"
     ]
    },
    {
     "data": {
      "image/png": "[encoded data removed]",
      "text/plain": [
       "<Figure size 864x432 with 1 Axes>"
      ]
     },
     "metadata": {
      "needs_background": "light"
     },
     "output_type": "display_data"
    }
   ],
   "source": [
    "# Determine the last input sequence from the training data\n",
    "last_sequence = X_train[-1]\n",
    "\n",
    "# Initialize array to store predicted values\n",
    "predicted_values = []\n",
    "\n",
    "# Predict days ahead\n",
    "for _ in range(days):\n",
    "    # Reshape input sequence to match the model's input shape\n",
    "    input_sequence = last_sequence.reshape(1, n_steps, n_features)\n",
    "\n",
    "    # Use the model to predict the next day's value\n",
    "    predicted_value = model.predict(input_sequence)[0][0]\n",
    "\n",
    "    # Append the predicted value to the array\n",
    "    predicted_values.append(predicted_value)\n",
    "\n",
    "    # Update the input sequence\n",
    "    last_sequence = np.append(last_sequence[1:], predicted_value)\n",
    "\n",
    "# Unnormalize the predicted values\n",
    "predicted_values_unscaled = scaler.inverse_transform(np.array(predicted_values).reshape(-1, 1))\n",
    "\n",
    "# Plot the actual data, predicted values, and input/output sequences\n",
    "# Get today's date\n",
    "today = datetime.date.today()\n",
    "\n",
    "# Create dates for the next days\n",
    "next_days = [today + datetime.timedelta(days=i) for i in range(days)]\n",
    "\n",
    "# Plot the predicted values for the next days\n",
    "plt.figure(figsize=(12, 6))\n",
    "plt.plot(next_days, predicted_values_unscaled, label='Predicted')\n",
    "plt.title(f'Stock Price Prediction for Next {days} Days')\n",
    "plt.xlabel('Date')\n",
    "plt.ylabel('Closing Price')\n",
    "plt.legend()\n",
    "plt.xticks(rotation=45)\n",
    "plt.show()"
   ]
  },
  {
   "cell_type": "code",
   "execution_count": 52,
   "id": "cc03c186",
   "metadata": {},
   "outputs": [
    {
     "name": "stdout",
     "output_type": "stream",
     "text": [
      "[[142.61028 ]\n",
      " [141.328   ]\n",
      " [139.85826 ]\n",
      " [138.62042 ]\n",
      " [138.3872  ]\n",
      " [138.64215 ]\n",
      " [138.1117  ]\n",
      " [136.94856 ]\n",
      " [136.14894 ]\n",
      " [135.45047 ]\n",
      " [134.87239 ]\n",
      " [134.37436 ]\n",
      " [133.80652 ]\n",
      " [133.10458 ]\n",
      " [132.39409 ]\n",
      " [131.7679  ]\n",
      " [131.16635 ]\n",
      " [130.57422 ]\n",
      " [129.97464 ]\n",
      " [129.3577  ]\n",
      " [128.73572 ]\n",
      " [128.12927 ]\n",
      " [127.53928 ]\n",
      " [126.9531  ]\n",
      " [126.367966]\n",
      " [125.783554]\n",
      " [125.20174 ]\n",
      " [124.62582 ]\n",
      " [124.05707 ]\n",
      " [123.49363 ]\n",
      " [122.933784]\n",
      " [122.37773 ]\n",
      " [121.82607 ]\n",
      " [121.27937 ]\n",
      " [120.73791 ]\n",
      " [120.20146 ]\n",
      " [119.669685]\n",
      " [119.14252 ]\n",
      " [118.62016 ]\n",
      " [118.10277 ]\n",
      " [117.59037 ]\n",
      " [117.082985]\n",
      " [116.58054 ]\n",
      " [116.08303 ]\n",
      " [115.5905  ]]\n"
     ]
    }
   ],
   "source": [
    "print(predicted_values_unscaled)"
   ]
  },
  {
   "cell_type": "code",
   "execution_count": null,
   "id": "7e982870",
   "metadata": {},
   "outputs": [],
   "source": []
  }
 ],
 "metadata": {
  "kernelspec": {
   "display_name": "Python 3 (ipykernel)",
   "language": "python",
   "name": "python3"
  },
  "language_info": {
   "codemirror_mode": {
    "name": "ipython",
    "version": 3
   },
   "file_extension": ".py",
   "mimetype": "text/x-python",
   "name": "python",
   "nbconvert_exporter": "python",
   "pygments_lexer": "ipython3",
   "version": "3.9.7"
  }
 },
 "nbformat": 4,
 "nbformat_minor": 5
}
