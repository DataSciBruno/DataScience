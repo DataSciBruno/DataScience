{
 "cells": [
  {
   "cell_type": "code",
   "execution_count": null,
   "id": "f2268895",
   "metadata": {},
   "outputs": [],
   "source": [
    "pip install tweepy"
   ]
  },
  {
   "cell_type": "code",
   "execution_count": 4,
   "id": "e2feccf6",
   "metadata": {},
   "outputs": [],
   "source": [
    "import requests\n",
    "import tweepy\n",
    "from textblob import TextBlob\n",
    "import tweepy\n",
    "import matplotlib.pyplot as plt\n",
    "import numpy as np"
   ]
  },
  {
   "cell_type": "markdown",
   "id": "e9d16415",
   "metadata": {},
   "source": [
    "# Google News API"
   ]
  },
  {
   "cell_type": "code",
   "execution_count": 2,
   "id": "c4db7596",
   "metadata": {},
   "outputs": [
    {
     "name": "stdout",
     "output_type": "stream",
     "text": [
      "Type in your API Key:dddb42c378a74d3893ba859bad06635d\n"
     ]
    }
   ],
   "source": [
    "api_key= input('Type in your API Key:')"
   ]
  },
  {
   "cell_type": "code",
   "execution_count": 6,
   "id": "e4890db9",
   "metadata": {},
   "outputs": [
    {
     "name": "stdout",
     "output_type": "stream",
     "text": [
      "Type in the ticker of the stock:\n",
      "AAPL\n",
      "\n",
      "Sentiment analysis for AAPL:\n",
      "\n",
      "Total news articles analyzed: 100\n",
      "\n",
      "Positive articles: 45 (45.00%)\n",
      "\n",
      "Neutral articles: 49 (49.00%)\n",
      "\n",
      "Negative articles: 6 (6.00%)\n",
      "\n"
     ]
    },
    {
     "data": {
      "image/png": "[encoded data removed]",
      "text/plain": [
       "<Figure size 576x432 with 1 Axes>"
      ]
     },
     "metadata": {},
     "output_type": "display_data"
    }
   ],
   "source": [
    "# Function to analyze sentiment of a given text\n",
    "def get_text_sentiment(text):\n",
    "    analysis = TextBlob(text)\n",
    "    sentiment_score = analysis.sentiment.polarity\n",
    "    if sentiment_score > 0:\n",
    "        return 'Positive'\n",
    "    elif sentiment_score == 0:\n",
    "        return 'Neutral'\n",
    "    else:\n",
    "        return 'Negative'\n",
    "\n",
    "    \n",
    "def plot_sentiment_distribution(sentiment_scores, stock_ticker):\n",
    "    sentiment_dict = {'Positive': 0, 'Neutral': 0, 'Negative': 0}\n",
    "    for score in sentiment_scores:\n",
    "        sentiment_dict[score] += 1\n",
    "\n",
    "    sentiments = list(sentiment_dict.keys())\n",
    "    counts = list(sentiment_dict.values())\n",
    "\n",
    "    colors = ['#66BB6A', '#FFEB3B', '#EF5350']  # Custom colors for positive, neutral, and negative sentiment\n",
    "    explode = (0.1, 0, 0)  # Explode the positive slice for emphasis\n",
    "\n",
    "    plt.figure(figsize=(8, 6))\n",
    "    plt.pie(counts, labels=sentiments, colors=colors, explode=explode, autopct='%1.1f%%', startangle=90)\n",
    "    plt.title(f\"Sentiment Analysis of {stock_ticker} News\")\n",
    "    plt.axis('equal')  # Equal aspect ratio ensures a circular pie chart\n",
    "    plt.show()\n",
    "    \n",
    "    \n",
    "# Function to get news articles related to a stock ticker\n",
    "def get_stock_sentiment(stock_ticker,api_key):    \n",
    "    api_endpoint = \"https://newsapi.org/v2/everything\"    \n",
    "    params = {\n",
    "        \"q\": stock_ticker,\n",
    "        \"language\": \"en\",\n",
    "        \"apiKey\": api_key\n",
    "    }\n",
    "\n",
    "    # Send request to the API\n",
    "    response = requests.get(api_endpoint, params=params)\n",
    "    news_data = response.json()\n",
    "   \n",
    "    # Analyze sentiment of each news article\n",
    "    sentiment_scores = []\n",
    "    for article in news_data[\"articles\"]:\n",
    "        sentiment_scores.append(get_text_sentiment(article[\"title\"]))\n",
    "\n",
    "    # Calculate sentiment statistics\n",
    "    total_articles = len(sentiment_scores)\n",
    "    positive_articles = sentiment_scores.count('Positive')\n",
    "    neutral_articles = sentiment_scores.count('Neutral')\n",
    "    negative_articles = sentiment_scores.count('Negative')\n",
    "\n",
    "    # Calculate sentiment percentages\n",
    "    positive_percentage = (positive_articles / total_articles) * 100\n",
    "    neutral_percentage = (neutral_articles / total_articles) * 100\n",
    "    negative_percentage = (negative_articles / total_articles) * 100\n",
    "\n",
    "    # Print sentiment results\n",
    "    print(f\"\\nSentiment analysis for {stock_ticker}:\\n\")\n",
    "    print(f\"Total news articles analyzed: {total_articles}\\n\")\n",
    "    print(f\"Positive articles: {positive_articles} ({positive_percentage:.2f}%)\\n\")\n",
    "    print(f\"Neutral articles: {neutral_articles} ({neutral_percentage:.2f}%)\\n\")\n",
    "    print(f\"Negative articles: {negative_articles} ({negative_percentage:.2f}%)\\n\")\n",
    "    \n",
    "    plot_sentiment_distribution(sentiment_scores, stock_ticker)\n",
    "\n",
    "# Example usage\n",
    "stock_ticker = input(\"Type in the ticker of the stock:\\n\")\n",
    "get_stock_sentiment(stock_ticker, api_key)\n"
   ]
  },
  {
   "cell_type": "markdown",
   "id": "03580d60",
   "metadata": {},
   "source": [
    "# Twitter API"
   ]
  },
  {
   "cell_type": "code",
   "execution_count": null,
   "id": "4135f7e9",
   "metadata": {},
   "outputs": [],
   "source": [
    "# Twitter API credentials\n",
    "consumer_key = input('Type in your consumer key:\\n')\n",
    "consumer_secret = input('Type in your secret key:\\n')\n",
    "access_token = input('Type in your access token:\\n')\n",
    "access_token_secret = input('Type in your access token secret:\\n')"
   ]
  },
  {
   "cell_type": "code",
   "execution_count": null,
   "id": "54abc61f",
   "metadata": {},
   "outputs": [],
   "source": [
    "def authenticate_twitter_api():\n",
    "    # Authenticate to Twitter API\n",
    "    auth = tweepy.OAuthHandler(consumer_key, consumer_secret)\n",
    "    auth.set_access_token(access_token, access_token_secret)\n",
    "    api = tweepy.API(auth)\n",
    "    return api\n",
    "\n",
    "def get_tweet_sentiment(tweet_text):\n",
    "    analysis = TextBlob(tweet_text)\n",
    "    sentiment_score = analysis.sentiment.polarity\n",
    "    if sentiment_score > 0:\n",
    "        return 'Positive'\n",
    "    elif sentiment_score == 0:\n",
    "        return 'Neutral'\n",
    "    else:\n",
    "        return 'Negative'\n",
    "\n",
    "def analyze_stock_sentiment(api, stock_ticker, num_tweets):\n",
    "    # Search for tweets containing the stock ticker symbol\n",
    "    tweets = tweepy.Cursor(api.search_tweets, q=stock_ticker, lang='en').items(num_tweets)\n",
    "\n",
    "    sentiment_scores = []\n",
    "    for tweet in tweets:\n",
    "        sentiment_scores.append(get_tweet_sentiment(tweet.text))\n",
    "\n",
    "    return sentiment_scores\n",
    "\n",
    "def plot_sentiment_distribution(sentiment_scores, stock_ticker):\n",
    "    sentiment_dict = {'Positive': 0, 'Neutral': 0, 'Negative': 0}\n",
    "    for score in sentiment_scores:\n",
    "        sentiment_dict[score] += 1\n",
    "\n",
    "    sentiments = list(sentiment_dict.keys())\n",
    "    counts = list(sentiment_dict.values())\n",
    "\n",
    "    colors = ['#66BB6A', '#FFEB3B', '#EF5350']  # Custom colors for positive, neutral, and negative sentiment\n",
    "    explode = (0.1, 0, 0)  # Explode the positive slice for emphasis\n",
    "\n",
    "    plt.figure(figsize=(8, 6))\n",
    "    plt.pie(counts, labels=sentiments, colors=colors, explode=explode, autopct='%1.1f%%', startangle=90)\n",
    "    plt.title(f\"Sentiment Analysis of {stock_ticker} Tweets\")\n",
    "    plt.axis('equal')  # Equal aspect ratio ensures a circular pie chart\n",
    "    plt.show()\n",
    "\n",
    "def perform_sentiment_analysis(stock_ticker, num_tweets):\n",
    "    api = authenticate_twitter_api()\n",
    "\n",
    "    sentiment_scores = analyze_stock_sentiment(api, stock_ticker, num_tweets)\n",
    "    plot_sentiment_distribution(sentiment_scores, stock_ticker)\n",
    "\n",
    "    total_tweets = len(sentiment_scores)\n",
    "    positive_tweets = sentiment_scores.count('Positive')\n",
    "    neutral_tweets = sentiment_scores.count('Neutral')\n",
    "    negative_tweets = sentiment_scores.count('Negative')\n",
    "\n",
    "    positive_percentage = (positive_tweets / total_tweets) * 100\n",
    "    neutral_percentage = (neutral_tweets / total_tweets) * 100\n",
    "    negative_percentage = (negative_tweets / total_tweets) * 100\n",
    "\n",
    "    print(f\"Sentiment analysis for {stock_ticker}:\\n\")\n",
    "    print(f\"Total tweets analyzed: {total_tweets}\\n\")\n",
    "    print(f\"Positive tweets: {positive_tweets} ({positive_percentage:.2f}%)\\n\")\n",
    "    print(f\"Neutral tweets: {neutral_tweets} ({neutral_percentage:.2f}%)\\n\")\n",
    "    print(f\"Negative tweets: {negative_tweets} ({negative_percentage:.2f}%)\\n\")\n",
    "\n",
    "# Example usage\n",
    "stock_ticker = input(\"Type in the ticker of the stock:\\n\")\n",
    "num_tweets = 100\n",
    "perform_sentiment_analysis(stock_ticker, num_tweets)\n"
   ]
  }
 ],
 "metadata": {
  "kernelspec": {
   "display_name": "Python 3 (ipykernel)",
   "language": "python",
   "name": "python3"
  },
  "language_info": {
   "codemirror_mode": {
    "name": "ipython",
    "version": 3
   },
   "file_extension": ".py",
   "mimetype": "text/x-python",
   "name": "python",
   "nbconvert_exporter": "python",
   "pygments_lexer": "ipython3",
   "version": "3.9.7"
  }
 },
 "nbformat": 4,
 "nbformat_minor": 5
}
