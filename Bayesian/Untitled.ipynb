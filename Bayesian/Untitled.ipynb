{
 "cells": [
  {
   "cell_type": "markdown",
   "id": "a67541a9",
   "metadata": {},
   "source": [
    "# LIBRARIES"
   ]
  },
  {
   "cell_type": "code",
   "execution_count": 1,
   "id": "99535347",
   "metadata": {},
   "outputs": [
    {
     "name": "stdout",
     "output_type": "stream",
     "text": [
      "WARN: Could not locate executable g77\n",
      "WARN: Could not locate executable f77\n",
      "WARN: Could not locate executable ifort\n",
      "WARN: Could not locate executable ifl\n",
      "WARN: Could not locate executable f90\n",
      "WARN: Could not locate executable DF\n",
      "WARN: Could not locate executable efl\n"
     ]
    },
    {
     "name": "stderr",
     "output_type": "stream",
     "text": [
      "WARNING (theano.tensor.blas): Using NumPy C-API based implementation for BLAS functions.\n"
     ]
    }
   ],
   "source": [
    "import pandas as pd\n",
    "import numpy as np\n",
    "import pymc3 as pm\n",
    "import theano.tensor as tt\n",
    "from sklearn.preprocessing import MinMaxScaler\n",
    "from sklearn.model_selection import train_test_split\n",
    "from sklearn.metrics import mean_squared_error\n",
    "import yfinance as yf"
   ]
  },
  {
   "cell_type": "markdown",
   "id": "7618f1a9",
   "metadata": {},
   "source": [
    "# INPUT TICKER"
   ]
  },
  {
   "cell_type": "code",
   "execution_count": 2,
   "id": "beabf7eb",
   "metadata": {},
   "outputs": [
    {
     "name": "stdout",
     "output_type": "stream",
     "text": [
      "Type in the ticker of the stock: AAPL\n"
     ]
    }
   ],
   "source": [
    "ticker = input('Type in the ticker of the stock: ')"
   ]
  },
  {
   "cell_type": "markdown",
   "id": "028ad1ec",
   "metadata": {},
   "source": [
    "# INPUT START & END DATES TO DOWNLOAD DATA"
   ]
  },
  {
   "cell_type": "code",
   "execution_count": 3,
   "id": "451cec51",
   "metadata": {},
   "outputs": [
    {
     "name": "stdout",
     "output_type": "stream",
     "text": [
      "Start date (YYYY-MM-DD): 2021-01-01\n",
      "End date (YYYY-MM-DD): 2022-12-31\n"
     ]
    }
   ],
   "source": [
    "start_date = input('Start date (YYYY-MM-DD): ')\n",
    "end_date = input('End date (YYYY-MM-DD): ')"
   ]
  },
  {
   "cell_type": "markdown",
   "id": "a80f77c2",
   "metadata": {},
   "source": [
    "# DOWNLOADING DATA"
   ]
  },
  {
   "cell_type": "code",
   "execution_count": 4,
   "id": "45e8964b",
   "metadata": {},
   "outputs": [
    {
     "name": "stdout",
     "output_type": "stream",
     "text": [
      "[*********************100%***********************]  1 of 1 completed\n"
     ]
    },
    {
     "data": {
      "text/html": [
       "<div>\n",
       "<style scoped>\n",
       "    .dataframe tbody tr th:only-of-type {\n",
       "        vertical-align: middle;\n",
       "    }\n",
       "\n",
       "    .dataframe tbody tr th {\n",
       "        vertical-align: top;\n",
       "    }\n",
       "\n",
       "    .dataframe thead th {\n",
       "        text-align: right;\n",
       "    }\n",
       "</style>\n",
       "<table border=\"1\" class=\"dataframe\">\n",
       "  <thead>\n",
       "    <tr style=\"text-align: right;\">\n",
       "      <th></th>\n",
       "      <th>Open</th>\n",
       "      <th>High</th>\n",
       "      <th>Low</th>\n",
       "      <th>Close</th>\n",
       "      <th>Adj Close</th>\n",
       "      <th>Volume</th>\n",
       "    </tr>\n",
       "    <tr>\n",
       "      <th>Date</th>\n",
       "      <th></th>\n",
       "      <th></th>\n",
       "      <th></th>\n",
       "      <th></th>\n",
       "      <th></th>\n",
       "      <th></th>\n",
       "    </tr>\n",
       "  </thead>\n",
       "  <tbody>\n",
       "    <tr>\n",
       "      <th>2021-01-04</th>\n",
       "      <td>133.520004</td>\n",
       "      <td>133.610001</td>\n",
       "      <td>126.760002</td>\n",
       "      <td>129.410004</td>\n",
       "      <td>127.503624</td>\n",
       "      <td>143301900</td>\n",
       "    </tr>\n",
       "    <tr>\n",
       "      <th>2021-01-05</th>\n",
       "      <td>128.889999</td>\n",
       "      <td>131.740005</td>\n",
       "      <td>128.429993</td>\n",
       "      <td>131.009995</td>\n",
       "      <td>129.080048</td>\n",
       "      <td>97664900</td>\n",
       "    </tr>\n",
       "    <tr>\n",
       "      <th>2021-01-06</th>\n",
       "      <td>127.720001</td>\n",
       "      <td>131.050003</td>\n",
       "      <td>126.379997</td>\n",
       "      <td>126.599998</td>\n",
       "      <td>124.735016</td>\n",
       "      <td>155088000</td>\n",
       "    </tr>\n",
       "    <tr>\n",
       "      <th>2021-01-07</th>\n",
       "      <td>128.360001</td>\n",
       "      <td>131.630005</td>\n",
       "      <td>127.860001</td>\n",
       "      <td>130.919998</td>\n",
       "      <td>128.991394</td>\n",
       "      <td>109578200</td>\n",
       "    </tr>\n",
       "    <tr>\n",
       "      <th>2021-01-08</th>\n",
       "      <td>132.429993</td>\n",
       "      <td>132.630005</td>\n",
       "      <td>130.229996</td>\n",
       "      <td>132.050003</td>\n",
       "      <td>130.104767</td>\n",
       "      <td>105158200</td>\n",
       "    </tr>\n",
       "    <tr>\n",
       "      <th>...</th>\n",
       "      <td>...</td>\n",
       "      <td>...</td>\n",
       "      <td>...</td>\n",
       "      <td>...</td>\n",
       "      <td>...</td>\n",
       "      <td>...</td>\n",
       "    </tr>\n",
       "    <tr>\n",
       "      <th>2022-12-23</th>\n",
       "      <td>130.919998</td>\n",
       "      <td>132.419998</td>\n",
       "      <td>129.639999</td>\n",
       "      <td>131.860001</td>\n",
       "      <td>131.477127</td>\n",
       "      <td>63814900</td>\n",
       "    </tr>\n",
       "    <tr>\n",
       "      <th>2022-12-27</th>\n",
       "      <td>131.380005</td>\n",
       "      <td>131.410004</td>\n",
       "      <td>128.720001</td>\n",
       "      <td>130.029999</td>\n",
       "      <td>129.652435</td>\n",
       "      <td>69007800</td>\n",
       "    </tr>\n",
       "    <tr>\n",
       "      <th>2022-12-28</th>\n",
       "      <td>129.669998</td>\n",
       "      <td>131.029999</td>\n",
       "      <td>125.870003</td>\n",
       "      <td>126.040001</td>\n",
       "      <td>125.674026</td>\n",
       "      <td>85438400</td>\n",
       "    </tr>\n",
       "    <tr>\n",
       "      <th>2022-12-29</th>\n",
       "      <td>127.989998</td>\n",
       "      <td>130.479996</td>\n",
       "      <td>127.730003</td>\n",
       "      <td>129.610001</td>\n",
       "      <td>129.233658</td>\n",
       "      <td>75703700</td>\n",
       "    </tr>\n",
       "    <tr>\n",
       "      <th>2022-12-30</th>\n",
       "      <td>128.410004</td>\n",
       "      <td>129.949997</td>\n",
       "      <td>127.430000</td>\n",
       "      <td>129.929993</td>\n",
       "      <td>129.552719</td>\n",
       "      <td>77034200</td>\n",
       "    </tr>\n",
       "  </tbody>\n",
       "</table>\n",
       "<p>503 rows × 6 columns</p>\n",
       "</div>"
      ],
      "text/plain": [
       "                  Open        High         Low       Close   Adj Close  \\\n",
       "Date                                                                     \n",
       "2021-01-04  133.520004  133.610001  126.760002  129.410004  127.503624   \n",
       "2021-01-05  128.889999  131.740005  128.429993  131.009995  129.080048   \n",
       "2021-01-06  127.720001  131.050003  126.379997  126.599998  124.735016   \n",
       "2021-01-07  128.360001  131.630005  127.860001  130.919998  128.991394   \n",
       "2021-01-08  132.429993  132.630005  130.229996  132.050003  130.104767   \n",
       "...                ...         ...         ...         ...         ...   \n",
       "2022-12-23  130.919998  132.419998  129.639999  131.860001  131.477127   \n",
       "2022-12-27  131.380005  131.410004  128.720001  130.029999  129.652435   \n",
       "2022-12-28  129.669998  131.029999  125.870003  126.040001  125.674026   \n",
       "2022-12-29  127.989998  130.479996  127.730003  129.610001  129.233658   \n",
       "2022-12-30  128.410004  129.949997  127.430000  129.929993  129.552719   \n",
       "\n",
       "               Volume  \n",
       "Date                   \n",
       "2021-01-04  143301900  \n",
       "2021-01-05   97664900  \n",
       "2021-01-06  155088000  \n",
       "2021-01-07  109578200  \n",
       "2021-01-08  105158200  \n",
       "...               ...  \n",
       "2022-12-23   63814900  \n",
       "2022-12-27   69007800  \n",
       "2022-12-28   85438400  \n",
       "2022-12-29   75703700  \n",
       "2022-12-30   77034200  \n",
       "\n",
       "[503 rows x 6 columns]"
      ]
     },
     "execution_count": 4,
     "metadata": {},
     "output_type": "execute_result"
    }
   ],
   "source": [
    "data = yf.download(ticker,start_date,end_date)\n",
    "data"
   ]
  },
  {
   "cell_type": "markdown",
   "id": "34c91a8e",
   "metadata": {},
   "source": [
    "# PREPROCESS"
   ]
  },
  {
   "cell_type": "code",
   "execution_count": 5,
   "id": "528723e8",
   "metadata": {},
   "outputs": [],
   "source": [
    "scaler = MinMaxScaler(feature_range=(0, 1))\n",
    "scaled_data = scaler.fit_transform(data['Adj Close'].values.reshape(-1, 1))"
   ]
  },
  {
   "cell_type": "markdown",
   "id": "be7eedab",
   "metadata": {},
   "source": [
    "# SPLIT DB"
   ]
  },
  {
   "cell_type": "code",
   "execution_count": 6,
   "id": "2d779ad1",
   "metadata": {},
   "outputs": [],
   "source": [
    "train_size = int(len(scaled_data) * 0.8)\n",
    "train_data, test_data = scaled_data[:train_size], scaled_data[train_size:]"
   ]
  },
  {
   "cell_type": "markdown",
   "id": "9a26f322",
   "metadata": {},
   "source": [
    "# BNN MODEL"
   ]
  },
  {
   "cell_type": "code",
   "execution_count": 7,
   "id": "1cc59af8",
   "metadata": {},
   "outputs": [],
   "source": [
    "def construct_bnn_model(X, y):\n",
    "    n_input = X.shape[1]\n",
    "    n_output = y.shape[1]\n",
    "    \n",
    "    with pm.Model() as bnn:\n",
    "        # Priors for the neural network weights and biases\n",
    "        init_w = pm.Normal('init_w', mu=0, sd=1, shape=(n_input, 20))\n",
    "        init_b = pm.Normal('init_b', mu=0, sd=1, shape=(20,))\n",
    "        \n",
    "        weights_in = tt.nnet.relu(init_w)\n",
    "        biases_in = tt.nnet.relu(init_b)\n",
    "        \n",
    "        init_w2 = pm.Normal('init_w2', mu=0, sd=1, shape=(20, n_output))\n",
    "        init_b2 = pm.Normal('init_b2', mu=0, sd=1, shape=(n_output,))\n",
    "        \n",
    "        weights_out = tt.nnet.relu(init_w2)\n",
    "        biases_out = tt.nnet.relu(init_b2)\n",
    "        \n",
    "        # Neural network with ReLU activation\n",
    "        act_1 = tt.nnet.relu(tt.dot(X, weights_in) + biases_in)\n",
    "        act_out = tt.dot(act_1, weights_out) + biases_out\n",
    "        \n",
    "        # Likelihood of the observed data\n",
    "        obs = pm.Normal('obs', mu=act_out, sd=0.1, observed=y)\n",
    "        \n",
    "    return bnn"
   ]
  },
  {
   "cell_type": "markdown",
   "id": "121a395e",
   "metadata": {},
   "source": [
    "# PREPARE TRAINING"
   ]
  },
  {
   "cell_type": "code",
   "execution_count": 8,
   "id": "13edc243",
   "metadata": {},
   "outputs": [
    {
     "name": "stdout",
     "output_type": "stream",
     "text": [
      "Number of days to predict: 5\n"
     ]
    }
   ],
   "source": [
    "X_train, y_train = [], []\n",
    "n_future = int(input('Number of days to predict: '))\n",
    "\n",
    "for i in range(len(train_data)-n_future):\n",
    "    X_train.append(train_data[i:i+n_future])\n",
    "    y_train.append(train_data[i+n_future])\n",
    "\n",
    "X_train, y_train = np.array(X_train), np.array(y_train)"
   ]
  },
  {
   "cell_type": "markdown",
   "id": "25d1c649",
   "metadata": {},
   "source": [
    "# FLATTEN THE DATA"
   ]
  },
  {
   "cell_type": "code",
   "execution_count": 9,
   "id": "69d40f40",
   "metadata": {},
   "outputs": [],
   "source": [
    "X_train = X_train.reshape((X_train.shape[0], X_train.shape[1]))"
   ]
  },
  {
   "cell_type": "markdown",
   "id": "8affd447",
   "metadata": {},
   "source": [
    "# RUNNING MODEL"
   ]
  },
  {
   "cell_type": "code",
   "execution_count": 29,
   "id": "12eac186",
   "metadata": {},
   "outputs": [],
   "source": [
    "bnn_model = construct_bnn_model(X_train, y_train)"
   ]
  },
  {
   "cell_type": "markdown",
   "id": "8ed62ee3",
   "metadata": {},
   "source": [
    "# BAYESIAN INFERENCE"
   ]
  },
  {
   "cell_type": "code",
   "execution_count": 30,
   "id": "46c01dcc",
   "metadata": {},
   "outputs": [
    {
     "name": "stderr",
     "output_type": "stream",
     "text": [
      "C:\\Users\\bviei\\anaconda3\\lib\\site-packages\\deprecat\\classic.py:215: FutureWarning: In v4.0, pm.sample will return an `arviz.InferenceData` object instead of a `MultiTrace` by default. You can pass return_inferencedata=True or return_inferencedata=False to be safe and silence this warning.\n",
      "  return wrapped_(*args_, **kwargs_)\n",
      "Auto-assigning NUTS sampler...\n",
      "Initializing NUTS using jitter+adapt_diag...\n",
      "Multiprocess sampling (2 chains in 2 jobs)\n",
      "NUTS: [init_b2, init_w2, init_b, init_w]\n"
     ]
    },
    {
     "data": {
      "text/html": [
       "\n",
       "<style>\n",
       "    /* Turns off some styling */\n",
       "    progress {\n",
       "        /* gets rid of default border in Firefox and Opera. */\n",
       "        border: none;\n",
       "        /* Needs to be in here for Safari polyfill so background images work as expected. */\n",
       "        background-size: auto;\n",
       "    }\n",
       "    progress:not([value]), progress:not([value])::-webkit-progress-bar {\n",
       "        background: repeating-linear-gradient(45deg, #7e7e7e, #7e7e7e 10px, #5c5c5c 10px, #5c5c5c 20px);\n",
       "    }\n",
       "    .progress-bar-interrupted, .progress-bar-interrupted::-webkit-progress-bar {\n",
       "        background: #F44336;\n",
       "    }\n",
       "</style>\n"
      ],
      "text/plain": [
       "<IPython.core.display.HTML object>"
      ]
     },
     "metadata": {},
     "output_type": "display_data"
    },
    {
     "data": {
      "text/html": [
       "\n",
       "    <div>\n",
       "      <progress value='2000' class='' max='2000' style='width:300px; height:20px; vertical-align: middle;'></progress>\n",
       "      100.00% [2000/2000 35:39&lt;00:00 Sampling 2 chains, 725 divergences]\n",
       "    </div>\n",
       "    "
      ],
      "text/plain": [
       "<IPython.core.display.HTML object>"
      ]
     },
     "metadata": {},
     "output_type": "display_data"
    },
    {
     "name": "stderr",
     "output_type": "stream",
     "text": [
      "Sampling 2 chains for 500 tune and 500 draw iterations (1_000 + 1_000 draws total) took 2339 seconds.\n",
      "There were 382 divergences after tuning. Increase `target_accept` or reparameterize.\n",
      "There were 343 divergences after tuning. Increase `target_accept` or reparameterize.\n",
      "The rhat statistic is larger than 1.4 for some parameters. The sampler did not converge.\n",
      "The estimated number of effective samples is smaller than 200 for some parameters.\n"
     ]
    }
   ],
   "source": [
    "with bnn_model:\n",
    "    trace = pm.sample(draws=500, tune=500)"
   ]
  },
  {
   "cell_type": "markdown",
   "id": "340fa1af",
   "metadata": {},
   "source": [
    "# PREPARE TESTING"
   ]
  },
  {
   "cell_type": "code",
   "execution_count": 31,
   "id": "eb047c63",
   "metadata": {},
   "outputs": [],
   "source": [
    "X_test, y_test = [], []\n",
    "\n",
    "for i in range(len(test_data) - n_future):\n",
    "    X_test.append(test_data[i:i+n_future])\n",
    "    y_test.append(test_data[i+n_future])\n",
    "\n",
    "X_test, y_test = np.array(X_test), np.array(y_test)"
   ]
  },
  {
   "cell_type": "markdown",
   "id": "9a3453e9",
   "metadata": {},
   "source": [
    "# FLATTEN TEST DATA"
   ]
  },
  {
   "cell_type": "code",
   "execution_count": 32,
   "id": "7a34607c",
   "metadata": {},
   "outputs": [],
   "source": [
    "X_test = X_test.reshape((X_test.shape[0], X_test.shape[1]))"
   ]
  },
  {
   "cell_type": "markdown",
   "id": "0ec7819f",
   "metadata": {},
   "source": [
    "# MAKE PREDICTIONS"
   ]
  },
  {
   "cell_type": "code",
   "execution_count": 33,
   "id": "cd049911",
   "metadata": {},
   "outputs": [
    {
     "name": "stderr",
     "output_type": "stream",
     "text": [
      "C:\\Users\\bviei\\anaconda3\\lib\\site-packages\\pymc3\\sampling.py:1708: UserWarning: samples parameter is smaller than nchains times ndraws, some draws and/or chains may not be represented in the returned posterior predictive sample\n",
      "  warnings.warn(\n"
     ]
    },
    {
     "data": {
      "text/html": [
       "\n",
       "<style>\n",
       "    /* Turns off some styling */\n",
       "    progress {\n",
       "        /* gets rid of default border in Firefox and Opera. */\n",
       "        border: none;\n",
       "        /* Needs to be in here for Safari polyfill so background images work as expected. */\n",
       "        background-size: auto;\n",
       "    }\n",
       "    progress:not([value]), progress:not([value])::-webkit-progress-bar {\n",
       "        background: repeating-linear-gradient(45deg, #7e7e7e, #7e7e7e 10px, #5c5c5c 10px, #5c5c5c 20px);\n",
       "    }\n",
       "    .progress-bar-interrupted, .progress-bar-interrupted::-webkit-progress-bar {\n",
       "        background: #F44336;\n",
       "    }\n",
       "</style>\n"
      ],
      "text/plain": [
       "<IPython.core.display.HTML object>"
      ]
     },
     "metadata": {},
     "output_type": "display_data"
    },
    {
     "data": {
      "text/html": [
       "\n",
       "    <div>\n",
       "      <progress value='200' class='' max='200' style='width:300px; height:20px; vertical-align: middle;'></progress>\n",
       "      100.00% [200/200 00:15&lt;00:00]\n",
       "    </div>\n",
       "    "
      ],
      "text/plain": [
       "<IPython.core.display.HTML object>"
      ]
     },
     "metadata": {},
     "output_type": "display_data"
    }
   ],
   "source": [
    "with bnn_model:\n",
    "    posterior_pred = pm.sample_posterior_predictive(trace, samples=200)"
   ]
  },
  {
   "cell_type": "markdown",
   "id": "ebc6e745",
   "metadata": {},
   "source": [
    "# MEAN PREDICTIONS"
   ]
  },
  {
   "cell_type": "code",
   "execution_count": 34,
   "id": "b3ed0bc5",
   "metadata": {
    "scrolled": false
   },
   "outputs": [
    {
     "name": "stdout",
     "output_type": "stream",
     "text": [
      "[[0.21747114]\n",
      " [0.1860931 ]\n",
      " [0.19272597]\n",
      " [0.21825224]\n",
      " [0.19080405]\n",
      " [0.17076028]\n",
      " [0.1775265 ]\n",
      " [0.2352427 ]\n",
      " [0.30968713]\n",
      " [0.32416311]\n",
      " [0.40678429]\n",
      " [0.39751421]\n",
      " [0.37671043]\n",
      " [0.33189715]\n",
      " [0.24109748]\n",
      " [0.26230611]\n",
      " [0.27744851]\n",
      " [0.26302375]\n",
      " [0.31462204]\n",
      " [0.29834348]\n",
      " [0.30249271]\n",
      " [0.29598935]\n",
      " [0.28724077]\n",
      " [0.29345897]\n",
      " [0.30548977]\n",
      " [0.26544101]\n",
      " [0.2338109 ]\n",
      " [0.21056724]\n",
      " [0.2057977 ]\n",
      " [0.15789811]\n",
      " [0.14622888]\n",
      " [0.1421257 ]\n",
      " [0.06614503]\n",
      " [0.07317289]\n",
      " [0.16875437]\n",
      " [0.13245014]\n",
      " [0.09067671]\n",
      " [0.07020527]\n",
      " [0.07948527]\n",
      " [0.00447084]\n",
      " [0.06997573]\n",
      " [0.06151777]\n",
      " [0.07215116]\n",
      " [0.05472712]\n",
      " [0.11094705]\n",
      " [0.13948807]\n",
      " [0.13617267]\n",
      " [0.07326708]\n",
      " [0.04163469]\n",
      " [0.10744891]\n",
      " [0.09032068]\n",
      " [0.05387225]\n",
      " [0.05759905]\n",
      " [0.07356243]\n",
      " [0.09372181]\n",
      " [0.05439497]\n",
      " [0.0821123 ]\n",
      " [0.08985285]\n",
      " [0.13334761]\n",
      " [0.14886892]\n",
      " [0.16017693]\n",
      " [0.20858097]\n",
      " [0.25247489]\n",
      " [0.21397637]\n",
      " [0.26402065]\n",
      " [0.24041126]\n",
      " [0.25863981]\n",
      " [0.26056403]\n",
      " [0.26196904]\n",
      " [0.23879375]\n",
      " [0.25879271]\n",
      " [0.25555699]\n",
      " [0.26629304]\n",
      " [0.27310973]\n",
      " [0.27040122]\n",
      " [0.26025211]\n",
      " [0.24389767]\n",
      " [0.23712421]\n",
      " [0.23881182]\n",
      " [0.18393976]\n",
      " [0.18743288]\n",
      " [0.19451568]\n",
      " [0.22788017]\n",
      " [0.17820884]\n",
      " [0.15581544]\n",
      " [0.10925206]\n",
      " [0.14175622]\n",
      " [0.16868639]\n",
      " [0.16094779]\n",
      " [0.12311392]\n",
      " [0.13864014]\n",
      " [0.17759495]\n",
      " [0.13589933]\n",
      " [0.15967519]\n",
      " [0.15293733]\n",
      " [0.17155978]\n",
      " [0.14920314]\n",
      " [0.12272885]\n",
      " [0.12566628]\n",
      " [0.13401826]\n",
      " [0.10832753]\n",
      " [0.14263374]\n",
      " [0.14001748]\n",
      " [0.15291366]\n",
      " [0.16503852]\n",
      " [0.15206067]\n",
      " [0.17492525]\n",
      " [0.23079031]\n",
      " [0.20171235]\n",
      " [0.21570457]\n",
      " [0.23864653]\n",
      " [0.21897082]\n",
      " [0.24666851]\n",
      " [0.26697463]\n",
      " [0.26698676]\n",
      " [0.25813015]\n",
      " [0.24970493]\n",
      " [0.27964836]\n",
      " [0.29713542]\n",
      " [0.30306569]\n",
      " [0.32358909]\n",
      " [0.35988793]\n",
      " [0.38364431]\n",
      " [0.43563309]\n",
      " [0.40083259]\n",
      " [0.43044953]\n",
      " [0.41519202]\n",
      " [0.4476651 ]\n",
      " [0.49334427]\n",
      " [0.49876456]\n",
      " [0.45383362]\n",
      " [0.4096369 ]\n",
      " [0.45098426]\n",
      " [0.43646809]\n",
      " [0.45908699]\n",
      " [0.47636737]\n",
      " [0.48978199]\n",
      " [0.45583361]\n",
      " [0.4400009 ]\n",
      " [0.43747598]\n",
      " [0.45014775]\n",
      " [0.43801583]\n",
      " [0.46602759]\n",
      " [0.4659127 ]\n",
      " [0.46845468]\n",
      " [0.45796067]\n",
      " [0.44867162]\n",
      " [0.45512666]\n",
      " [0.45028215]\n",
      " [0.49398636]\n",
      " [0.50023583]\n",
      " [0.53158923]\n",
      " [0.52320153]\n",
      " [0.45947822]\n",
      " [0.46270542]\n",
      " [0.48406334]\n",
      " [0.49622551]\n",
      " [0.50746926]\n",
      " [0.48371821]\n",
      " [0.4829225 ]\n",
      " [0.47867015]\n",
      " [0.55657309]\n",
      " [0.54145013]\n",
      " [0.55654796]\n",
      " [0.57253509]\n",
      " [0.5866888 ]\n",
      " [0.61713646]\n",
      " [0.59611674]\n",
      " [0.57976232]\n",
      " [0.50611463]\n",
      " [0.50724164]\n",
      " [0.47511276]\n",
      " [0.51885927]\n",
      " [0.49901212]\n",
      " [0.45225145]\n",
      " [0.41460832]\n",
      " [0.41047765]\n",
      " [0.44445996]\n",
      " [0.4663815 ]\n",
      " [0.46267697]\n",
      " [0.45877026]\n",
      " [0.3913194 ]\n",
      " [0.40204327]\n",
      " [0.39333887]\n",
      " [0.40589526]\n",
      " [0.34737602]\n",
      " [0.37551806]\n",
      " [0.37961379]\n",
      " [0.41594666]\n",
      " [0.39488173]\n",
      " [0.41384709]\n",
      " [0.38657476]\n",
      " [0.37388073]\n",
      " [0.41802948]\n",
      " [0.43044231]\n",
      " [0.45287926]\n",
      " [0.50156192]\n",
      " [0.49464364]\n",
      " [0.50871556]\n",
      " [0.49692592]\n",
      " [0.4968112 ]\n",
      " [0.49860422]\n",
      " [0.48896539]\n",
      " [0.54131032]\n",
      " [0.50214957]\n",
      " [0.49474036]\n",
      " [0.50452059]\n",
      " [0.54015425]\n",
      " [0.52034967]\n",
      " [0.54175489]\n",
      " [0.53149701]\n",
      " [0.53074885]\n",
      " [0.48549571]\n",
      " [0.48790273]\n",
      " [0.51613852]\n",
      " [0.5213517 ]\n",
      " [0.51993372]\n",
      " [0.57157911]\n",
      " [0.62136043]\n",
      " [0.65495264]\n",
      " [0.67314718]\n",
      " [0.697748  ]\n",
      " [0.69981881]\n",
      " [0.62678608]\n",
      " [0.67376585]\n",
      " [0.74876573]\n",
      " [0.73561753]\n",
      " [0.71848128]\n",
      " [0.68874544]\n",
      " [0.74835393]\n",
      " [0.81991487]\n",
      " [0.88442058]\n",
      " [0.89567059]\n",
      " [0.95445747]\n",
      " [0.89399776]\n",
      " [0.88720194]\n",
      " [0.95753031]\n",
      " [0.85996726]\n",
      " [0.84263231]\n",
      " [0.8083107 ]\n",
      " [0.86849045]\n",
      " [0.89472919]\n",
      " [0.90645939]\n",
      " [0.95498649]\n",
      " [0.95163262]\n",
      " [0.96251584]\n",
      " [0.93588577]\n",
      " [0.93094308]\n",
      " [0.98477814]\n",
      " [0.95520746]\n",
      " [0.89884537]\n",
      " [0.86690942]\n",
      " [0.85457058]\n",
      " [0.8601196 ]\n",
      " [0.88306886]\n",
      " [0.90147705]\n",
      " [0.84359117]\n",
      " [0.8646022 ]\n",
      " [0.8210535 ]\n",
      " [0.76604936]\n",
      " [0.74952855]\n",
      " [0.70251266]\n",
      " [0.6990447 ]\n",
      " [0.66648767]\n",
      " [0.66163151]\n",
      " [0.65079326]\n",
      " [0.81937794]\n",
      " [0.87895411]\n",
      " [0.87895516]\n",
      " [0.90651442]\n",
      " [0.85844724]\n",
      " [0.85698069]\n",
      " [0.84020763]\n",
      " [0.89105423]\n",
      " [0.91313696]\n",
      " [0.87228719]\n",
      " [0.8018222 ]\n",
      " [0.81435365]\n",
      " [0.86742181]\n",
      " [0.86130107]\n",
      " [0.80765649]\n",
      " [0.78704731]\n",
      " [0.74169633]\n",
      " [0.67506265]\n",
      " [0.71217847]\n",
      " [0.7421604 ]\n",
      " [0.75185605]\n",
      " [0.71239266]\n",
      " [0.76915901]\n",
      " [0.75939697]\n",
      " [0.71137402]\n",
      " [0.66025781]\n",
      " [0.6495843 ]\n",
      " [0.71489285]\n",
      " [0.65019322]\n",
      " [0.59460697]\n",
      " [0.53313701]\n",
      " [0.59426011]\n",
      " [0.66121209]\n",
      " [0.6734824 ]\n",
      " [0.72129292]\n",
      " [0.76155218]\n",
      " [0.79761311]\n",
      " [0.8307706 ]\n",
      " [0.88786457]\n",
      " [0.884689  ]\n",
      " [0.90727877]\n",
      " [0.95322034]\n",
      " [0.92800056]\n",
      " [0.90005474]\n",
      " [0.90252636]\n",
      " [0.95384059]\n",
      " [0.89980688]\n",
      " [0.8552215 ]\n",
      " [0.83875512]\n",
      " [0.82361968]\n",
      " [0.76691268]\n",
      " [0.79495743]\n",
      " [0.8286687 ]\n",
      " [0.75761573]\n",
      " [0.75500206]\n",
      " [0.78410522]\n",
      " [0.78047174]\n",
      " [0.77364527]\n",
      " [0.70742942]\n",
      " [0.72204475]\n",
      " [0.62871723]\n",
      " [0.62907187]\n",
      " [0.71602029]\n",
      " [0.62731049]\n",
      " [0.64214863]\n",
      " [0.6592124 ]\n",
      " [0.75274021]\n",
      " [0.6304555 ]\n",
      " [0.64123771]\n",
      " [0.55956507]\n",
      " [0.59574796]\n",
      " [0.47646244]\n",
      " [0.41927802]\n",
      " [0.47800918]\n",
      " [0.45532963]\n",
      " [0.50449385]\n",
      " [0.37558805]\n",
      " [0.33814658]\n",
      " [0.3437462 ]\n",
      " [0.42491426]\n",
      " [0.36323829]\n",
      " [0.37376797]\n",
      " [0.41812129]\n",
      " [0.5019267 ]\n",
      " [0.49252736]\n",
      " [0.49136785]\n",
      " [0.54649725]\n",
      " [0.46338442]\n",
      " [0.46801801]\n",
      " [0.49595665]\n",
      " [0.48289627]\n",
      " [0.41899424]\n",
      " [0.3448656 ]\n",
      " [0.25823124]\n",
      " [0.27589357]\n",
      " [0.30641618]\n",
      " [0.22212505]\n",
      " [0.24012682]\n",
      " [0.31694378]\n",
      " [0.29075013]\n",
      " [0.33473223]\n",
      " [0.39120409]\n",
      " [0.39253807]\n",
      " [0.34374071]\n",
      " [0.37111979]\n",
      " [0.32204724]\n",
      " [0.34793688]\n",
      " [0.40127175]\n",
      " [0.40811895]\n",
      " [0.45256121]\n",
      " [0.46743412]\n",
      " [0.44777376]\n",
      " [0.46543421]\n",
      " [0.44831231]\n",
      " [0.4968313 ]\n",
      " [0.52687577]\n",
      " [0.47038407]\n",
      " [0.54074172]\n",
      " [0.56066339]\n",
      " [0.59959939]\n",
      " [0.56644186]\n",
      " [0.56403527]\n",
      " [0.55825477]\n",
      " [0.6206025 ]\n",
      " [0.63606667]\n",
      " [0.70912551]\n",
      " [0.69602704]\n",
      " [0.66861205]\n",
      " [0.76667012]\n",
      " [0.76099643]\n",
      " [0.75526891]]\n"
     ]
    }
   ],
   "source": [
    "mean_predictions = posterior_pred['obs'].mean(axis=0)\n",
    "print(mean_predictions)"
   ]
  },
  {
   "cell_type": "markdown",
   "id": "9fcb2e79",
   "metadata": {},
   "source": [
    "# INVERSE TRANSFORM"
   ]
  },
  {
   "cell_type": "code",
   "execution_count": 35,
   "id": "a2c532eb",
   "metadata": {},
   "outputs": [
    {
     "name": "stdout",
     "output_type": "stream",
     "text": [
      "[[172.24186707]\n",
      " [173.75492859]\n",
      " [173.35673523]\n",
      " [170.73872375]\n",
      " [166.80671692]\n",
      " [166.46826172]\n",
      " [166.76690674]\n",
      " [169.25550842]\n",
      " [162.87472534]\n",
      " [160.64491272]\n",
      " [158.18617249]\n",
      " [156.50386047]\n",
      " [157.24049377]\n",
      " [155.10028076]\n",
      " [153.8261261 ]\n",
      " [155.24961853]\n",
      " [153.75643921]\n",
      " [156.65318298]\n",
      " [162.68557739]\n",
      " [153.13925171]\n",
      " [154.60255432]\n",
      " [151.67596436]\n",
      " [150.01356506]\n",
      " [153.77633667]\n",
      " [156.18531799]\n",
      " [153.01980591]\n",
      " [152.04428101]\n",
      " [149.74479675]\n",
      " [150.08325195]\n",
      " [151.06874084]\n",
      " [149.1574707 ]\n",
      " [141.83099365]\n",
      " [137.57048035]\n",
      " [141.80114746]\n",
      " [145.43452454]\n",
      " [145.73313904]\n",
      " [144.76756287]\n",
      " [139.45188904]\n",
      " [139.78039551]\n",
      " [138.34693909]\n",
      " [137.70985413]\n",
      " [142.33868408]\n",
      " [137.74967957]\n",
      " [141.76133728]\n",
      " [143.0952301 ]\n",
      " [143.20472717]\n",
      " [142.73686218]\n",
      " [146.59918213]\n",
      " [148.76924133]\n",
      " [151.64608765]\n",
      " [148.66970825]\n",
      " [144.14044189]\n",
      " [155.03062439]\n",
      " [152.64154053]\n",
      " [149.96379089]\n",
      " [144.36938477]\n",
      " [138.24740601]\n",
      " [137.97817993]\n",
      " [138.51661682]\n",
      " [139.09494019]\n",
      " [134.4783783 ]\n",
      " [146.44352722]\n",
      " [149.26530457]\n",
      " [147.84944153]\n",
      " [149.60432434]\n",
      " [148.35795593]\n",
      " [150.28236389]\n",
      " [150.85070801]\n",
      " [147.58021545]\n",
      " [149.74391174]\n",
      " [150.63134766]\n",
      " [147.67993164]\n",
      " [143.80123901]\n",
      " [140.76008606]\n",
      " [147.60015869]\n",
      " [147.87934875]\n",
      " [147.38079834]\n",
      " [146.20423889]\n",
      " [142.49504089]\n",
      " [140.53076172]\n",
      " [142.23579407]\n",
      " [141.7472229 ]\n",
      " [144.07044983]\n",
      " [145.04760742]\n",
      " [142.79417419]\n",
      " [136.1036377 ]\n",
      " [134.11941528]\n",
      " [131.98564148]\n",
      " [131.91584778]\n",
      " [135.0566864 ]\n",
      " [131.84603882]\n",
      " [131.47712708]\n",
      " [129.6524353 ]\n",
      " [125.67402649]\n",
      " [129.23365784]\n",
      " [129.55271912]]\n"
     ]
    }
   ],
   "source": [
    "mean_predictions = scaler.inverse_transform(mean_predictions.reshape(-1, 1))\n",
    "y_test_inv = scaler.inverse_transform(y_test.reshape(-1, 1))\n",
    "print(y_test_inv)"
   ]
  },
  {
   "cell_type": "markdown",
   "id": "57be5c6a",
   "metadata": {},
   "source": [
    "# RMSE"
   ]
  },
  {
   "cell_type": "code",
   "execution_count": 36,
   "id": "2a75b9bc",
   "metadata": {},
   "outputs": [
    {
     "ename": "ValueError",
     "evalue": "Found input variables with inconsistent numbers of samples: [96, 397]",
     "output_type": "error",
     "traceback": [
      "\u001b[1;31m---------------------------------------------------------------------------\u001b[0m",
      "\u001b[1;31mValueError\u001b[0m                                Traceback (most recent call last)",
      "Cell \u001b[1;32mIn[36], line 2\u001b[0m\n\u001b[0;32m      1\u001b[0m y_test_inv \u001b[38;5;241m=\u001b[39m y_test_inv[:\u001b[38;5;28mlen\u001b[39m(mean_predictions)]\n\u001b[1;32m----> 2\u001b[0m rmse \u001b[38;5;241m=\u001b[39m np\u001b[38;5;241m.\u001b[39msqrt(\u001b[43mmean_squared_error\u001b[49m\u001b[43m(\u001b[49m\u001b[43my_test_inv\u001b[49m\u001b[43m,\u001b[49m\u001b[43m \u001b[49m\u001b[43mmean_predictions\u001b[49m\u001b[43m)\u001b[49m)\n\u001b[0;32m      3\u001b[0m \u001b[38;5;28mprint\u001b[39m(\u001b[38;5;124m'\u001b[39m\u001b[38;5;124mRMSE: \u001b[39m\u001b[38;5;124m'\u001b[39m, rmse)\n",
      "File \u001b[1;32m~\\anaconda3\\lib\\site-packages\\sklearn\\metrics\\_regression.py:442\u001b[0m, in \u001b[0;36mmean_squared_error\u001b[1;34m(y_true, y_pred, sample_weight, multioutput, squared)\u001b[0m\n\u001b[0;32m    382\u001b[0m \u001b[38;5;28;01mdef\u001b[39;00m \u001b[38;5;21mmean_squared_error\u001b[39m(\n\u001b[0;32m    383\u001b[0m     y_true, y_pred, \u001b[38;5;241m*\u001b[39m, sample_weight\u001b[38;5;241m=\u001b[39m\u001b[38;5;28;01mNone\u001b[39;00m, multioutput\u001b[38;5;241m=\u001b[39m\u001b[38;5;124m\"\u001b[39m\u001b[38;5;124muniform_average\u001b[39m\u001b[38;5;124m\"\u001b[39m, squared\u001b[38;5;241m=\u001b[39m\u001b[38;5;28;01mTrue\u001b[39;00m\n\u001b[0;32m    384\u001b[0m ):\n\u001b[0;32m    385\u001b[0m     \u001b[38;5;124;03m\"\"\"Mean squared error regression loss.\u001b[39;00m\n\u001b[0;32m    386\u001b[0m \n\u001b[0;32m    387\u001b[0m \u001b[38;5;124;03m    Read more in the :ref:`User Guide <mean_squared_error>`.\u001b[39;00m\n\u001b[1;32m   (...)\u001b[0m\n\u001b[0;32m    440\u001b[0m \u001b[38;5;124;03m    0.825...\u001b[39;00m\n\u001b[0;32m    441\u001b[0m \u001b[38;5;124;03m    \"\"\"\u001b[39;00m\n\u001b[1;32m--> 442\u001b[0m     y_type, y_true, y_pred, multioutput \u001b[38;5;241m=\u001b[39m \u001b[43m_check_reg_targets\u001b[49m\u001b[43m(\u001b[49m\n\u001b[0;32m    443\u001b[0m \u001b[43m        \u001b[49m\u001b[43my_true\u001b[49m\u001b[43m,\u001b[49m\u001b[43m \u001b[49m\u001b[43my_pred\u001b[49m\u001b[43m,\u001b[49m\u001b[43m \u001b[49m\u001b[43mmultioutput\u001b[49m\n\u001b[0;32m    444\u001b[0m \u001b[43m    \u001b[49m\u001b[43m)\u001b[49m\n\u001b[0;32m    445\u001b[0m     check_consistent_length(y_true, y_pred, sample_weight)\n\u001b[0;32m    446\u001b[0m     output_errors \u001b[38;5;241m=\u001b[39m np\u001b[38;5;241m.\u001b[39maverage((y_true \u001b[38;5;241m-\u001b[39m y_pred) \u001b[38;5;241m*\u001b[39m\u001b[38;5;241m*\u001b[39m \u001b[38;5;241m2\u001b[39m, axis\u001b[38;5;241m=\u001b[39m\u001b[38;5;241m0\u001b[39m, weights\u001b[38;5;241m=\u001b[39msample_weight)\n",
      "File \u001b[1;32m~\\anaconda3\\lib\\site-packages\\sklearn\\metrics\\_regression.py:100\u001b[0m, in \u001b[0;36m_check_reg_targets\u001b[1;34m(y_true, y_pred, multioutput, dtype)\u001b[0m\n\u001b[0;32m     66\u001b[0m \u001b[38;5;28;01mdef\u001b[39;00m \u001b[38;5;21m_check_reg_targets\u001b[39m(y_true, y_pred, multioutput, dtype\u001b[38;5;241m=\u001b[39m\u001b[38;5;124m\"\u001b[39m\u001b[38;5;124mnumeric\u001b[39m\u001b[38;5;124m\"\u001b[39m):\n\u001b[0;32m     67\u001b[0m     \u001b[38;5;124;03m\"\"\"Check that y_true and y_pred belong to the same regression task.\u001b[39;00m\n\u001b[0;32m     68\u001b[0m \n\u001b[0;32m     69\u001b[0m \u001b[38;5;124;03m    Parameters\u001b[39;00m\n\u001b[1;32m   (...)\u001b[0m\n\u001b[0;32m     98\u001b[0m \u001b[38;5;124;03m        correct keyword.\u001b[39;00m\n\u001b[0;32m     99\u001b[0m \u001b[38;5;124;03m    \"\"\"\u001b[39;00m\n\u001b[1;32m--> 100\u001b[0m     \u001b[43mcheck_consistent_length\u001b[49m\u001b[43m(\u001b[49m\u001b[43my_true\u001b[49m\u001b[43m,\u001b[49m\u001b[43m \u001b[49m\u001b[43my_pred\u001b[49m\u001b[43m)\u001b[49m\n\u001b[0;32m    101\u001b[0m     y_true \u001b[38;5;241m=\u001b[39m check_array(y_true, ensure_2d\u001b[38;5;241m=\u001b[39m\u001b[38;5;28;01mFalse\u001b[39;00m, dtype\u001b[38;5;241m=\u001b[39mdtype)\n\u001b[0;32m    102\u001b[0m     y_pred \u001b[38;5;241m=\u001b[39m check_array(y_pred, ensure_2d\u001b[38;5;241m=\u001b[39m\u001b[38;5;28;01mFalse\u001b[39;00m, dtype\u001b[38;5;241m=\u001b[39mdtype)\n",
      "File \u001b[1;32m~\\anaconda3\\lib\\site-packages\\sklearn\\utils\\validation.py:397\u001b[0m, in \u001b[0;36mcheck_consistent_length\u001b[1;34m(*arrays)\u001b[0m\n\u001b[0;32m    395\u001b[0m uniques \u001b[38;5;241m=\u001b[39m np\u001b[38;5;241m.\u001b[39munique(lengths)\n\u001b[0;32m    396\u001b[0m \u001b[38;5;28;01mif\u001b[39;00m \u001b[38;5;28mlen\u001b[39m(uniques) \u001b[38;5;241m>\u001b[39m \u001b[38;5;241m1\u001b[39m:\n\u001b[1;32m--> 397\u001b[0m     \u001b[38;5;28;01mraise\u001b[39;00m \u001b[38;5;167;01mValueError\u001b[39;00m(\n\u001b[0;32m    398\u001b[0m         \u001b[38;5;124m\"\u001b[39m\u001b[38;5;124mFound input variables with inconsistent numbers of samples: \u001b[39m\u001b[38;5;132;01m%r\u001b[39;00m\u001b[38;5;124m\"\u001b[39m\n\u001b[0;32m    399\u001b[0m         \u001b[38;5;241m%\u001b[39m [\u001b[38;5;28mint\u001b[39m(l) \u001b[38;5;28;01mfor\u001b[39;00m l \u001b[38;5;129;01min\u001b[39;00m lengths]\n\u001b[0;32m    400\u001b[0m     )\n",
      "\u001b[1;31mValueError\u001b[0m: Found input variables with inconsistent numbers of samples: [96, 397]"
     ]
    }
   ],
   "source": [
    "y_test_inv = y_test_inv[:len(mean_predictions)]\n",
    "rmse = np.sqrt(mean_squared_error(y_test_inv, mean_predictions))\n",
    "print('RMSE: ', rmse)"
   ]
  },
  {
   "cell_type": "code",
   "execution_count": null,
   "id": "9157d207",
   "metadata": {},
   "outputs": [],
   "source": [
    "\n",
    "\n",
    "# Calculate the root mean squared error\n",
    "rmse = np.sqrt(mean_squared_error(y_test_inv, mean_predictions))\n",
    "print('RMSE:', rmse)"
   ]
  },
  {
   "cell_type": "code",
   "execution_count": null,
   "id": "49bcdd9e",
   "metadata": {},
   "outputs": [],
   "source": []
  }
 ],
 "metadata": {
  "kernelspec": {
   "display_name": "Python 3 (ipykernel)",
   "language": "python",
   "name": "python3"
  },
  "language_info": {
   "codemirror_mode": {
    "name": "ipython",
    "version": 3
   },
   "file_extension": ".py",
   "mimetype": "text/x-python",
   "name": "python",
   "nbconvert_exporter": "python",
   "pygments_lexer": "ipython3",
   "version": "3.10.9"
  }
 },
 "nbformat": 4,
 "nbformat_minor": 5
}
