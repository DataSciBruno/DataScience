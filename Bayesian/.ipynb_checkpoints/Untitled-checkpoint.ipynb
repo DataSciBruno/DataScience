{
 "cells": [
  {
   "cell_type": "markdown",
   "id": "a67541a9",
   "metadata": {},
   "source": [
    "# LIBRARIES"
   ]
  },
  {
   "cell_type": "code",
   "execution_count": 1,
   "id": "99535347",
   "metadata": {},
   "outputs": [
    {
     "name": "stdout",
     "output_type": "stream",
     "text": [
      "WARN: Could not locate executable g77\n",
      "WARN: Could not locate executable f77\n",
      "WARN: Could not locate executable ifort\n",
      "WARN: Could not locate executable ifl\n",
      "WARN: Could not locate executable f90\n",
      "WARN: Could not locate executable DF\n",
      "WARN: Could not locate executable efl\n"
     ]
    },
    {
     "name": "stderr",
     "output_type": "stream",
     "text": [
      "WARNING (theano.tensor.blas): Using NumPy C-API based implementation for BLAS functions.\n"
     ]
    }
   ],
   "source": [
    "import pandas as pd\n",
    "import numpy as np\n",
    "import pymc3 as pm\n",
    "import theano.tensor as tt\n",
    "from sklearn.preprocessing import MinMaxScaler\n",
    "from sklearn.model_selection import train_test_split\n",
    "from sklearn.metrics import mean_squared_error\n",
    "import yfinance as yf"
   ]
  },
  {
   "cell_type": "markdown",
   "id": "7618f1a9",
   "metadata": {},
   "source": [
    "# INPUT TICKER"
   ]
  },
  {
   "cell_type": "code",
   "execution_count": 2,
   "id": "beabf7eb",
   "metadata": {},
   "outputs": [
    {
     "name": "stdout",
     "output_type": "stream",
     "text": [
      "Type in the ticker of the stock: AAPL\n"
     ]
    }
   ],
   "source": [
    "ticker = input('Type in the ticker of the stock: ')"
   ]
  },
  {
   "cell_type": "markdown",
   "id": "028ad1ec",
   "metadata": {},
   "source": [
    "# INPUT START & END DATES TO DOWNLOAD DATA"
   ]
  },
  {
   "cell_type": "code",
   "execution_count": 3,
   "id": "451cec51",
   "metadata": {},
   "outputs": [
    {
     "name": "stdout",
     "output_type": "stream",
     "text": [
      "Start date (YYYY-MM-DD): 2021-01-01\n",
      "End date (YYYY-MM-DD): 2022-12-31\n"
     ]
    }
   ],
   "source": [
    "start_date = input('Start date (YYYY-MM-DD): ')\n",
    "end_date = input('End date (YYYY-MM-DD): ')"
   ]
  },
  {
   "cell_type": "markdown",
   "id": "a80f77c2",
   "metadata": {},
   "source": [
    "# DOWNLOADING DATA"
   ]
  },
  {
   "cell_type": "code",
   "execution_count": 4,
   "id": "45e8964b",
   "metadata": {},
   "outputs": [
    {
     "name": "stdout",
     "output_type": "stream",
     "text": [
      "[*********************100%***********************]  1 of 1 completed\n"
     ]
    },
    {
     "data": {
      "text/html": [
       "<div>\n",
       "<style scoped>\n",
       "    .dataframe tbody tr th:only-of-type {\n",
       "        vertical-align: middle;\n",
       "    }\n",
       "\n",
       "    .dataframe tbody tr th {\n",
       "        vertical-align: top;\n",
       "    }\n",
       "\n",
       "    .dataframe thead th {\n",
       "        text-align: right;\n",
       "    }\n",
       "</style>\n",
       "<table border=\"1\" class=\"dataframe\">\n",
       "  <thead>\n",
       "    <tr style=\"text-align: right;\">\n",
       "      <th></th>\n",
       "      <th>Open</th>\n",
       "      <th>High</th>\n",
       "      <th>Low</th>\n",
       "      <th>Close</th>\n",
       "      <th>Adj Close</th>\n",
       "      <th>Volume</th>\n",
       "    </tr>\n",
       "    <tr>\n",
       "      <th>Date</th>\n",
       "      <th></th>\n",
       "      <th></th>\n",
       "      <th></th>\n",
       "      <th></th>\n",
       "      <th></th>\n",
       "      <th></th>\n",
       "    </tr>\n",
       "  </thead>\n",
       "  <tbody>\n",
       "    <tr>\n",
       "      <th>2021-01-04</th>\n",
       "      <td>133.520004</td>\n",
       "      <td>133.610001</td>\n",
       "      <td>126.760002</td>\n",
       "      <td>129.410004</td>\n",
       "      <td>127.503624</td>\n",
       "      <td>143301900</td>\n",
       "    </tr>\n",
       "    <tr>\n",
       "      <th>2021-01-05</th>\n",
       "      <td>128.889999</td>\n",
       "      <td>131.740005</td>\n",
       "      <td>128.429993</td>\n",
       "      <td>131.009995</td>\n",
       "      <td>129.080048</td>\n",
       "      <td>97664900</td>\n",
       "    </tr>\n",
       "    <tr>\n",
       "      <th>2021-01-06</th>\n",
       "      <td>127.720001</td>\n",
       "      <td>131.050003</td>\n",
       "      <td>126.379997</td>\n",
       "      <td>126.599998</td>\n",
       "      <td>124.735016</td>\n",
       "      <td>155088000</td>\n",
       "    </tr>\n",
       "    <tr>\n",
       "      <th>2021-01-07</th>\n",
       "      <td>128.360001</td>\n",
       "      <td>131.630005</td>\n",
       "      <td>127.860001</td>\n",
       "      <td>130.919998</td>\n",
       "      <td>128.991394</td>\n",
       "      <td>109578200</td>\n",
       "    </tr>\n",
       "    <tr>\n",
       "      <th>2021-01-08</th>\n",
       "      <td>132.429993</td>\n",
       "      <td>132.630005</td>\n",
       "      <td>130.229996</td>\n",
       "      <td>132.050003</td>\n",
       "      <td>130.104767</td>\n",
       "      <td>105158200</td>\n",
       "    </tr>\n",
       "    <tr>\n",
       "      <th>...</th>\n",
       "      <td>...</td>\n",
       "      <td>...</td>\n",
       "      <td>...</td>\n",
       "      <td>...</td>\n",
       "      <td>...</td>\n",
       "      <td>...</td>\n",
       "    </tr>\n",
       "    <tr>\n",
       "      <th>2022-12-23</th>\n",
       "      <td>130.919998</td>\n",
       "      <td>132.419998</td>\n",
       "      <td>129.639999</td>\n",
       "      <td>131.860001</td>\n",
       "      <td>131.477127</td>\n",
       "      <td>63814900</td>\n",
       "    </tr>\n",
       "    <tr>\n",
       "      <th>2022-12-27</th>\n",
       "      <td>131.380005</td>\n",
       "      <td>131.410004</td>\n",
       "      <td>128.720001</td>\n",
       "      <td>130.029999</td>\n",
       "      <td>129.652435</td>\n",
       "      <td>69007800</td>\n",
       "    </tr>\n",
       "    <tr>\n",
       "      <th>2022-12-28</th>\n",
       "      <td>129.669998</td>\n",
       "      <td>131.029999</td>\n",
       "      <td>125.870003</td>\n",
       "      <td>126.040001</td>\n",
       "      <td>125.674026</td>\n",
       "      <td>85438400</td>\n",
       "    </tr>\n",
       "    <tr>\n",
       "      <th>2022-12-29</th>\n",
       "      <td>127.989998</td>\n",
       "      <td>130.479996</td>\n",
       "      <td>127.730003</td>\n",
       "      <td>129.610001</td>\n",
       "      <td>129.233658</td>\n",
       "      <td>75703700</td>\n",
       "    </tr>\n",
       "    <tr>\n",
       "      <th>2022-12-30</th>\n",
       "      <td>128.410004</td>\n",
       "      <td>129.949997</td>\n",
       "      <td>127.430000</td>\n",
       "      <td>129.929993</td>\n",
       "      <td>129.552719</td>\n",
       "      <td>77034200</td>\n",
       "    </tr>\n",
       "  </tbody>\n",
       "</table>\n",
       "<p>503 rows × 6 columns</p>\n",
       "</div>"
      ],
      "text/plain": [
       "                  Open        High         Low       Close   Adj Close  \\\n",
       "Date                                                                     \n",
       "2021-01-04  133.520004  133.610001  126.760002  129.410004  127.503624   \n",
       "2021-01-05  128.889999  131.740005  128.429993  131.009995  129.080048   \n",
       "2021-01-06  127.720001  131.050003  126.379997  126.599998  124.735016   \n",
       "2021-01-07  128.360001  131.630005  127.860001  130.919998  128.991394   \n",
       "2021-01-08  132.429993  132.630005  130.229996  132.050003  130.104767   \n",
       "...                ...         ...         ...         ...         ...   \n",
       "2022-12-23  130.919998  132.419998  129.639999  131.860001  131.477127   \n",
       "2022-12-27  131.380005  131.410004  128.720001  130.029999  129.652435   \n",
       "2022-12-28  129.669998  131.029999  125.870003  126.040001  125.674026   \n",
       "2022-12-29  127.989998  130.479996  127.730003  129.610001  129.233658   \n",
       "2022-12-30  128.410004  129.949997  127.430000  129.929993  129.552719   \n",
       "\n",
       "               Volume  \n",
       "Date                   \n",
       "2021-01-04  143301900  \n",
       "2021-01-05   97664900  \n",
       "2021-01-06  155088000  \n",
       "2021-01-07  109578200  \n",
       "2021-01-08  105158200  \n",
       "...               ...  \n",
       "2022-12-23   63814900  \n",
       "2022-12-27   69007800  \n",
       "2022-12-28   85438400  \n",
       "2022-12-29   75703700  \n",
       "2022-12-30   77034200  \n",
       "\n",
       "[503 rows x 6 columns]"
      ]
     },
     "execution_count": 4,
     "metadata": {},
     "output_type": "execute_result"
    }
   ],
   "source": [
    "data = yf.download(ticker,start_date,end_date)\n",
    "data"
   ]
  },
  {
   "cell_type": "markdown",
   "id": "34c91a8e",
   "metadata": {},
   "source": [
    "# PREPROCESS"
   ]
  },
  {
   "cell_type": "code",
   "execution_count": 5,
   "id": "528723e8",
   "metadata": {},
   "outputs": [],
   "source": [
    "scaler = MinMaxScaler(feature_range=(0, 1))\n",
    "scaled_data = scaler.fit_transform(data['Adj Close'].values.reshape(-1, 1))"
   ]
  },
  {
   "cell_type": "markdown",
   "id": "be7eedab",
   "metadata": {},
   "source": [
    "# SPLIT DB"
   ]
  },
  {
   "cell_type": "code",
   "execution_count": 6,
   "id": "2d779ad1",
   "metadata": {},
   "outputs": [],
   "source": [
    "train_size = int(len(scaled_data) * 0.8)\n",
    "train_data, test_data = scaled_data[:train_size], scaled_data[train_size:]"
   ]
  },
  {
   "cell_type": "markdown",
   "id": "9a26f322",
   "metadata": {},
   "source": [
    "# BNN MODEL"
   ]
  },
  {
   "cell_type": "code",
   "execution_count": 7,
   "id": "1cc59af8",
   "metadata": {},
   "outputs": [],
   "source": [
    "def construct_bnn_model(X, y):\n",
    "    n_input = X.shape[1]\n",
    "    n_output = y.shape[1]\n",
    "    \n",
    "    with pm.Model() as bnn:\n",
    "        # Priors for the neural network weights and biases\n",
    "        init_w = pm.Normal('init_w', mu=0, sd=1, shape=(n_input, 20))\n",
    "        init_b = pm.Normal('init_b', mu=0, sd=1, shape=(20,))\n",
    "        \n",
    "        weights_in = tt.nnet.relu(init_w)\n",
    "        biases_in = tt.nnet.relu(init_b)\n",
    "        \n",
    "        init_w2 = pm.Normal('init_w2', mu=0, sd=1, shape=(20, n_output))\n",
    "        init_b2 = pm.Normal('init_b2', mu=0, sd=1, shape=(n_output,))\n",
    "        \n",
    "        weights_out = tt.nnet.relu(init_w2)\n",
    "        biases_out = tt.nnet.relu(init_b2)\n",
    "        \n",
    "        # Neural network with ReLU activation\n",
    "        act_1 = tt.nnet.relu(tt.dot(X, weights_in) + biases_in)\n",
    "        act_out = tt.dot(act_1, weights_out) + biases_out\n",
    "        \n",
    "        # Likelihood of the observed data\n",
    "        obs = pm.Normal('obs', mu=act_out, sd=0.1, observed=y)\n",
    "        \n",
    "    return bnn"
   ]
  },
  {
   "cell_type": "markdown",
   "id": "121a395e",
   "metadata": {},
   "source": [
    "# PREPARE TRAINING"
   ]
  },
  {
   "cell_type": "code",
   "execution_count": 8,
   "id": "13edc243",
   "metadata": {},
   "outputs": [
    {
     "name": "stdout",
     "output_type": "stream",
     "text": [
      "Number of days to predict: 5\n"
     ]
    }
   ],
   "source": [
    "X_train, y_train = [], []\n",
    "n_future = int(input('Number of days to predict: '))\n",
    "\n",
    "for i in range(len(train_data)-n_future):\n",
    "    X_train.append(train_data[i:i+n_future])\n",
    "    y_train.append(train_data[i+n_future])\n",
    "\n",
    "X_train, y_train = np.array(X_train), np.array(y_train)"
   ]
  },
  {
   "cell_type": "markdown",
   "id": "25d1c649",
   "metadata": {},
   "source": [
    "# FLATTEN THE DATA"
   ]
  },
  {
   "cell_type": "code",
   "execution_count": 9,
   "id": "69d40f40",
   "metadata": {},
   "outputs": [],
   "source": [
    "X_train = X_train.reshape((X_train.shape[0], X_train.shape[1]))"
   ]
  },
  {
   "cell_type": "markdown",
   "id": "8affd447",
   "metadata": {},
   "source": [
    "# RUNNING MODEL"
   ]
  },
  {
   "cell_type": "code",
   "execution_count": 29,
   "id": "12eac186",
   "metadata": {},
   "outputs": [],
   "source": [
    "bnn_model = construct_bnn_model(X_train, y_train)"
   ]
  },
  {
   "cell_type": "markdown",
   "id": "8ed62ee3",
   "metadata": {},
   "source": [
    "# BAYESIAN INFERENCE"
   ]
  },
  {
   "cell_type": "code",
   "execution_count": null,
   "id": "46c01dcc",
   "metadata": {},
   "outputs": [
    {
     "name": "stderr",
     "output_type": "stream",
     "text": [
      "C:\\Users\\bviei\\anaconda3\\lib\\site-packages\\deprecat\\classic.py:215: FutureWarning: In v4.0, pm.sample will return an `arviz.InferenceData` object instead of a `MultiTrace` by default. You can pass return_inferencedata=True or return_inferencedata=False to be safe and silence this warning.\n",
      "  return wrapped_(*args_, **kwargs_)\n",
      "Auto-assigning NUTS sampler...\n",
      "Initializing NUTS using jitter+adapt_diag...\n",
      "Multiprocess sampling (2 chains in 2 jobs)\n",
      "NUTS: [init_b2, init_w2, init_b, init_w]\n"
     ]
    }
   ],
   "source": [
    "with bnn_model:\n",
    "    trace = pm.sample(draws=500, tune=500)"
   ]
  },
  {
   "cell_type": "markdown",
   "id": "340fa1af",
   "metadata": {},
   "source": [
    "# PREPARE TESTING"
   ]
  },
  {
   "cell_type": "code",
   "execution_count": null,
   "id": "eb047c63",
   "metadata": {},
   "outputs": [],
   "source": [
    "X_test, y_test = [], []\n",
    "\n",
    "for i in range(len(test_data) - n_future):\n",
    "    X_test.append(test_data[i:i+n_future])\n",
    "    y_test.append(test_data[i+n_future])\n",
    "\n",
    "X_test, y_test = np.array(X_test), np.array(y_test)"
   ]
  },
  {
   "cell_type": "markdown",
   "id": "9a3453e9",
   "metadata": {},
   "source": [
    "# FLATTEN TEST DATA"
   ]
  },
  {
   "cell_type": "code",
   "execution_count": null,
   "id": "7a34607c",
   "metadata": {},
   "outputs": [],
   "source": [
    "X_test = X_test.reshape((X_test.shape[0], X_test.shape[1]))"
   ]
  },
  {
   "cell_type": "markdown",
   "id": "0ec7819f",
   "metadata": {},
   "source": [
    "# MAKE PREDICTIONS"
   ]
  },
  {
   "cell_type": "code",
   "execution_count": null,
   "id": "cd049911",
   "metadata": {},
   "outputs": [],
   "source": [
    "with bnn_model:\n",
    "    posterior_pred = pm.sample_posterior_predictive(trace, samples=200)"
   ]
  },
  {
   "cell_type": "markdown",
   "id": "ebc6e745",
   "metadata": {},
   "source": [
    "# MEAN PREDICTIONS"
   ]
  },
  {
   "cell_type": "code",
   "execution_count": null,
   "id": "b3ed0bc5",
   "metadata": {
    "scrolled": false
   },
   "outputs": [],
   "source": [
    "mean_predictions = posterior_pred['obs'].mean(axis=0)\n",
    "print(mean_predictions)"
   ]
  },
  {
   "cell_type": "markdown",
   "id": "9fcb2e79",
   "metadata": {},
   "source": [
    "# INVERSE TRANSFORM"
   ]
  },
  {
   "cell_type": "code",
   "execution_count": null,
   "id": "a2c532eb",
   "metadata": {},
   "outputs": [],
   "source": [
    "mean_predictions = scaler.inverse_transform(mean_predictions.reshape(-1, 1))\n",
    "y_test_inv = scaler.inverse_transform(y_test.reshape(-1, 1))\n",
    "print(y_test_inv)"
   ]
  },
  {
   "cell_type": "markdown",
   "id": "57be5c6a",
   "metadata": {},
   "source": [
    "# RMSE"
   ]
  },
  {
   "cell_type": "code",
   "execution_count": null,
   "id": "2a75b9bc",
   "metadata": {},
   "outputs": [],
   "source": [
    "y_test_inv = y_test_inv[:len(mean_predictions)]\n",
    "rmse = np.sqrt(mean_squared_error(y_test_inv, mean_predictions))\n",
    "print('RMSE: ', rmse)"
   ]
  },
  {
   "cell_type": "code",
   "execution_count": null,
   "id": "9157d207",
   "metadata": {},
   "outputs": [],
   "source": [
    "\n",
    "\n",
    "# Calculate the root mean squared error\n",
    "rmse = np.sqrt(mean_squared_error(y_test_inv, mean_predictions))\n",
    "print('RMSE:', rmse)"
   ]
  },
  {
   "cell_type": "code",
   "execution_count": null,
   "id": "8b5928b2",
   "metadata": {},
   "outputs": [],
   "source": []
  }
 ],
 "metadata": {
  "kernelspec": {
   "display_name": "Python 3 (ipykernel)",
   "language": "python",
   "name": "python3"
  },
  "language_info": {
   "codemirror_mode": {
    "name": "ipython",
    "version": 3
   },
   "file_extension": ".py",
   "mimetype": "text/x-python",
   "name": "python",
   "nbconvert_exporter": "python",
   "pygments_lexer": "ipython3",
   "version": "3.10.9"
  }
 },
 "nbformat": 4,
 "nbformat_minor": 5
}
