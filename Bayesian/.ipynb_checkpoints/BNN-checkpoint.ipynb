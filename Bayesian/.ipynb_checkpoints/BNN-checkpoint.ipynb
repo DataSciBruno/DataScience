{
 "cells": [
  {
   "cell_type": "markdown",
   "id": "a67541a9",
   "metadata": {},
   "source": [
    "# LIBRARIES"
   ]
  },
  {
   "cell_type": "code",
   "execution_count": 4,
   "id": "99535347",
   "metadata": {},
   "outputs": [
    {
     "name": "stdout",
     "output_type": "stream",
     "text": [
      "WARN: Could not locate executable g77\n",
      "WARN: Could not locate executable f77\n",
      "WARN: Could not locate executable ifort\n",
      "WARN: Could not locate executable ifl\n",
      "WARN: Could not locate executable f90\n",
      "WARN: Could not locate executable DF\n",
      "WARN: Could not locate executable efl\n"
     ]
    },
    {
     "name": "stderr",
     "output_type": "stream",
     "text": [
      "WARNING (theano.tensor.blas): Using NumPy C-API based implementation for BLAS functions.\n"
     ]
    }
   ],
   "source": [
    "import pandas as pd\n",
    "import numpy as np\n",
    "import pymc3 as pm\n",
    "import theano.tensor as tt\n",
    "from sklearn.preprocessing import MinMaxScaler\n",
    "from sklearn.model_selection import train_test_split\n",
    "from sklearn.metrics import mean_squared_error\n",
    "import yfinance as yf"
   ]
  },
  {
   "cell_type": "markdown",
   "id": "7618f1a9",
   "metadata": {},
   "source": [
    "# INPUT TICKER"
   ]
  },
  {
   "cell_type": "code",
   "execution_count": 1,
   "id": "beabf7eb",
   "metadata": {},
   "outputs": [
    {
     "name": "stdout",
     "output_type": "stream",
     "text": [
      "Type in the ticker of the stock: AAPL\n"
     ]
    }
   ],
   "source": [
    "ticker = input('Type in the ticker of the stock: ')"
   ]
  },
  {
   "cell_type": "markdown",
   "id": "028ad1ec",
   "metadata": {},
   "source": [
    "# INPUT START & END DATES TO DOWNLOAD DATA"
   ]
  },
  {
   "cell_type": "code",
   "execution_count": 2,
   "id": "451cec51",
   "metadata": {},
   "outputs": [
    {
     "name": "stdout",
     "output_type": "stream",
     "text": [
      "Start date (YYYY-MM-DD): 2021-01-01\n",
      "End date (YYYY-MM-DD): 2022-12-31\n"
     ]
    }
   ],
   "source": [
    "start_date = input('Start date (YYYY-MM-DD): ')\n",
    "end_date = input('End date (YYYY-MM-DD): ')"
   ]
  },
  {
   "cell_type": "markdown",
   "id": "a80f77c2",
   "metadata": {},
   "source": [
    "# DOWNLOADING DATA"
   ]
  },
  {
   "cell_type": "code",
   "execution_count": 5,
   "id": "45e8964b",
   "metadata": {},
   "outputs": [
    {
     "name": "stdout",
     "output_type": "stream",
     "text": [
      "[*********************100%***********************]  1 of 1 completed\n"
     ]
    }
   ],
   "source": [
    "df = yf.download(ticker,start_date,end_date)\n",
    "data = df"
   ]
  },
  {
   "cell_type": "markdown",
   "id": "34c91a8e",
   "metadata": {},
   "source": [
    "# PREPROCESS"
   ]
  },
  {
   "cell_type": "code",
   "execution_count": 7,
   "id": "8d0fa4ca",
   "metadata": {},
   "outputs": [
    {
     "data": {
      "text/html": [
       "<div>\n",
       "<style scoped>\n",
       "    .dataframe tbody tr th:only-of-type {\n",
       "        vertical-align: middle;\n",
       "    }\n",
       "\n",
       "    .dataframe tbody tr th {\n",
       "        vertical-align: top;\n",
       "    }\n",
       "\n",
       "    .dataframe thead th {\n",
       "        text-align: right;\n",
       "    }\n",
       "</style>\n",
       "<table border=\"1\" class=\"dataframe\">\n",
       "  <thead>\n",
       "    <tr style=\"text-align: right;\">\n",
       "      <th></th>\n",
       "      <th>Open</th>\n",
       "      <th>High</th>\n",
       "      <th>Low</th>\n",
       "      <th>Close</th>\n",
       "      <th>Adj Close</th>\n",
       "      <th>Volume</th>\n",
       "    </tr>\n",
       "    <tr>\n",
       "      <th>Date</th>\n",
       "      <th></th>\n",
       "      <th></th>\n",
       "      <th></th>\n",
       "      <th></th>\n",
       "      <th></th>\n",
       "      <th></th>\n",
       "    </tr>\n",
       "  </thead>\n",
       "  <tbody>\n",
       "    <tr>\n",
       "      <th>2021-01-04</th>\n",
       "      <td>133.520004</td>\n",
       "      <td>133.610001</td>\n",
       "      <td>126.760002</td>\n",
       "      <td>129.410004</td>\n",
       "      <td>127.503624</td>\n",
       "      <td>143301900</td>\n",
       "    </tr>\n",
       "    <tr>\n",
       "      <th>2021-01-05</th>\n",
       "      <td>128.889999</td>\n",
       "      <td>131.740005</td>\n",
       "      <td>128.429993</td>\n",
       "      <td>131.009995</td>\n",
       "      <td>129.080078</td>\n",
       "      <td>97664900</td>\n",
       "    </tr>\n",
       "    <tr>\n",
       "      <th>2021-01-06</th>\n",
       "      <td>127.720001</td>\n",
       "      <td>131.050003</td>\n",
       "      <td>126.379997</td>\n",
       "      <td>126.599998</td>\n",
       "      <td>124.735031</td>\n",
       "      <td>155088000</td>\n",
       "    </tr>\n",
       "    <tr>\n",
       "      <th>2021-01-07</th>\n",
       "      <td>128.360001</td>\n",
       "      <td>131.630005</td>\n",
       "      <td>127.860001</td>\n",
       "      <td>130.919998</td>\n",
       "      <td>128.991394</td>\n",
       "      <td>109578200</td>\n",
       "    </tr>\n",
       "    <tr>\n",
       "      <th>2021-01-08</th>\n",
       "      <td>132.429993</td>\n",
       "      <td>132.630005</td>\n",
       "      <td>130.229996</td>\n",
       "      <td>132.050003</td>\n",
       "      <td>130.104752</td>\n",
       "      <td>105158200</td>\n",
       "    </tr>\n",
       "    <tr>\n",
       "      <th>...</th>\n",
       "      <td>...</td>\n",
       "      <td>...</td>\n",
       "      <td>...</td>\n",
       "      <td>...</td>\n",
       "      <td>...</td>\n",
       "      <td>...</td>\n",
       "    </tr>\n",
       "    <tr>\n",
       "      <th>2022-03-10</th>\n",
       "      <td>160.199997</td>\n",
       "      <td>160.389999</td>\n",
       "      <td>155.979996</td>\n",
       "      <td>158.520004</td>\n",
       "      <td>157.347885</td>\n",
       "      <td>105342000</td>\n",
       "    </tr>\n",
       "    <tr>\n",
       "      <th>2022-03-11</th>\n",
       "      <td>158.929993</td>\n",
       "      <td>159.279999</td>\n",
       "      <td>154.500000</td>\n",
       "      <td>154.729996</td>\n",
       "      <td>153.585907</td>\n",
       "      <td>96970100</td>\n",
       "    </tr>\n",
       "    <tr>\n",
       "      <th>2022-03-14</th>\n",
       "      <td>151.449997</td>\n",
       "      <td>154.119995</td>\n",
       "      <td>150.100006</td>\n",
       "      <td>150.619995</td>\n",
       "      <td>149.506287</td>\n",
       "      <td>108732100</td>\n",
       "    </tr>\n",
       "    <tr>\n",
       "      <th>2022-03-15</th>\n",
       "      <td>150.899994</td>\n",
       "      <td>155.570007</td>\n",
       "      <td>150.380005</td>\n",
       "      <td>155.089996</td>\n",
       "      <td>153.943222</td>\n",
       "      <td>92964300</td>\n",
       "    </tr>\n",
       "    <tr>\n",
       "      <th>2022-03-16</th>\n",
       "      <td>157.050003</td>\n",
       "      <td>160.000000</td>\n",
       "      <td>154.460007</td>\n",
       "      <td>159.589996</td>\n",
       "      <td>158.409958</td>\n",
       "      <td>102300200</td>\n",
       "    </tr>\n",
       "  </tbody>\n",
       "</table>\n",
       "<p>303 rows × 6 columns</p>\n",
       "</div>"
      ],
      "text/plain": [
       "                  Open        High         Low       Close   Adj Close  \\\n",
       "Date                                                                     \n",
       "2021-01-04  133.520004  133.610001  126.760002  129.410004  127.503624   \n",
       "2021-01-05  128.889999  131.740005  128.429993  131.009995  129.080078   \n",
       "2021-01-06  127.720001  131.050003  126.379997  126.599998  124.735031   \n",
       "2021-01-07  128.360001  131.630005  127.860001  130.919998  128.991394   \n",
       "2021-01-08  132.429993  132.630005  130.229996  132.050003  130.104752   \n",
       "...                ...         ...         ...         ...         ...   \n",
       "2022-03-10  160.199997  160.389999  155.979996  158.520004  157.347885   \n",
       "2022-03-11  158.929993  159.279999  154.500000  154.729996  153.585907   \n",
       "2022-03-14  151.449997  154.119995  150.100006  150.619995  149.506287   \n",
       "2022-03-15  150.899994  155.570007  150.380005  155.089996  153.943222   \n",
       "2022-03-16  157.050003  160.000000  154.460007  159.589996  158.409958   \n",
       "\n",
       "               Volume  \n",
       "Date                   \n",
       "2021-01-04  143301900  \n",
       "2021-01-05   97664900  \n",
       "2021-01-06  155088000  \n",
       "2021-01-07  109578200  \n",
       "2021-01-08  105158200  \n",
       "...               ...  \n",
       "2022-03-10  105342000  \n",
       "2022-03-11   96970100  \n",
       "2022-03-14  108732100  \n",
       "2022-03-15   92964300  \n",
       "2022-03-16  102300200  \n",
       "\n",
       "[303 rows x 6 columns]"
      ]
     },
     "execution_count": 7,
     "metadata": {},
     "output_type": "execute_result"
    }
   ],
   "source": [
    "data_new= df[-200:]\n",
    "data = df[:-200]\n",
    "data"
   ]
  },
  {
   "cell_type": "code",
   "execution_count": 8,
   "id": "d59f3d6a",
   "metadata": {},
   "outputs": [],
   "source": [
    "data.reset_index(drop=True, inplace=True)"
   ]
  },
  {
   "cell_type": "code",
   "execution_count": 9,
   "id": "72d0a4a7",
   "metadata": {},
   "outputs": [],
   "source": [
    "# Define the feature and target variables\n",
    "X = data[['Volume','Open']]  # Add the relevant features here\n",
    "y = data['Adj Close']  # Assuming 'Close' column contains the target variable"
   ]
  },
  {
   "cell_type": "code",
   "execution_count": 10,
   "id": "804225f5",
   "metadata": {},
   "outputs": [
    {
     "data": {
      "text/html": [
       "<div>\n",
       "<style scoped>\n",
       "    .dataframe tbody tr th:only-of-type {\n",
       "        vertical-align: middle;\n",
       "    }\n",
       "\n",
       "    .dataframe tbody tr th {\n",
       "        vertical-align: top;\n",
       "    }\n",
       "\n",
       "    .dataframe thead th {\n",
       "        text-align: right;\n",
       "    }\n",
       "</style>\n",
       "<table border=\"1\" class=\"dataframe\">\n",
       "  <thead>\n",
       "    <tr style=\"text-align: right;\">\n",
       "      <th></th>\n",
       "      <th>Volume</th>\n",
       "      <th>Open</th>\n",
       "    </tr>\n",
       "  </thead>\n",
       "  <tbody>\n",
       "    <tr>\n",
       "      <th>0</th>\n",
       "      <td>1.839724</td>\n",
       "      <td>-0.703577</td>\n",
       "    </tr>\n",
       "    <tr>\n",
       "      <th>1</th>\n",
       "      <td>0.221767</td>\n",
       "      <td>-0.978369</td>\n",
       "    </tr>\n",
       "    <tr>\n",
       "      <th>2</th>\n",
       "      <td>2.257574</td>\n",
       "      <td>-1.047808</td>\n",
       "    </tr>\n",
       "    <tr>\n",
       "      <th>3</th>\n",
       "      <td>0.644126</td>\n",
       "      <td>-1.009824</td>\n",
       "    </tr>\n",
       "    <tr>\n",
       "      <th>4</th>\n",
       "      <td>0.487425</td>\n",
       "      <td>-0.768270</td>\n",
       "    </tr>\n",
       "    <tr>\n",
       "      <th>...</th>\n",
       "      <td>...</td>\n",
       "      <td>...</td>\n",
       "    </tr>\n",
       "    <tr>\n",
       "      <th>298</th>\n",
       "      <td>0.493941</td>\n",
       "      <td>0.879884</td>\n",
       "    </tr>\n",
       "    <tr>\n",
       "      <th>299</th>\n",
       "      <td>0.197134</td>\n",
       "      <td>0.804510</td>\n",
       "    </tr>\n",
       "    <tr>\n",
       "      <th>300</th>\n",
       "      <td>0.614130</td>\n",
       "      <td>0.360571</td>\n",
       "    </tr>\n",
       "    <tr>\n",
       "      <th>301</th>\n",
       "      <td>0.055118</td>\n",
       "      <td>0.327928</td>\n",
       "    </tr>\n",
       "    <tr>\n",
       "      <th>302</th>\n",
       "      <td>0.386101</td>\n",
       "      <td>0.692932</td>\n",
       "    </tr>\n",
       "  </tbody>\n",
       "</table>\n",
       "<p>303 rows × 2 columns</p>\n",
       "</div>"
      ],
      "text/plain": [
       "       Volume      Open\n",
       "0    1.839724 -0.703577\n",
       "1    0.221767 -0.978369\n",
       "2    2.257574 -1.047808\n",
       "3    0.644126 -1.009824\n",
       "4    0.487425 -0.768270\n",
       "..        ...       ...\n",
       "298  0.493941  0.879884\n",
       "299  0.197134  0.804510\n",
       "300  0.614130  0.360571\n",
       "301  0.055118  0.327928\n",
       "302  0.386101  0.692932\n",
       "\n",
       "[303 rows x 2 columns]"
      ]
     },
     "execution_count": 10,
     "metadata": {},
     "output_type": "execute_result"
    }
   ],
   "source": [
    "# Normalize the feature variables\n",
    "X = (X - X.mean()) / X.std()\n",
    "X"
   ]
  },
  {
   "cell_type": "code",
   "execution_count": 11,
   "id": "5eee8518",
   "metadata": {},
   "outputs": [],
   "source": [
    "# Define the BNN model\n",
    "n_features = X.shape[1]\n",
    "\n",
    "def construct_bnn():\n",
    "    with pm.Model() as model:\n",
    "        # Prior for the weights\n",
    "        weights_in_1 = pm.Normal('w_in_1', mu=0, sd=1, shape=(n_features, 20))\n",
    "        weights_1_out = pm.Normal('w_1_out', mu=0, sd=1, shape=(20,))\n",
    "        \n",
    "        # Prior for the biases\n",
    "        biases_in_1 = pm.Normal('b_in_1', mu=0, sd=1, shape=(20,))\n",
    "        bias_out = pm.Normal('b_out', mu=0, sd=1)\n",
    "        \n",
    "        # Define the neural network\n",
    "        hidden = tt.nnet.relu(tt.dot(X, weights_in_1) + biases_in_1)\n",
    "        output = pm.Deterministic('output', tt.dot(hidden, weights_1_out) + bias_out)\n",
    "        \n",
    "        # Likelihood of the observed target variable\n",
    "        sigma = pm.HalfNormal('sigma', sd=1)\n",
    "        likelihood = pm.Normal('y_obs', mu=output, sd=sigma, observed=y)\n",
    "    \n",
    "    return model"
   ]
  },
  {
   "cell_type": "code",
   "execution_count": null,
   "id": "7cafcdfa",
   "metadata": {},
   "outputs": [
    {
     "name": "stderr",
     "output_type": "stream",
     "text": [
      "C:\\Users\\bviei\\anaconda3\\lib\\site-packages\\deprecat\\classic.py:215: FutureWarning: In v4.0, pm.sample will return an `arviz.InferenceData` object instead of a `MultiTrace` by default. You can pass return_inferencedata=True or return_inferencedata=False to be safe and silence this warning.\n",
      "  return wrapped_(*args_, **kwargs_)\n",
      "Auto-assigning NUTS sampler...\n",
      "Initializing NUTS using jitter+adapt_diag...\n",
      "Multiprocess sampling (2 chains in 2 jobs)\n",
      "NUTS: [sigma, b_out, b_in_1, w_1_out, w_in_1]\n"
     ]
    },
    {
     "data": {
      "text/html": [
       "\n",
       "<style>\n",
       "    /* Turns off some styling */\n",
       "    progress {\n",
       "        /* gets rid of default border in Firefox and Opera. */\n",
       "        border: none;\n",
       "        /* Needs to be in here for Safari polyfill so background images work as expected. */\n",
       "        background-size: auto;\n",
       "    }\n",
       "    progress:not([value]), progress:not([value])::-webkit-progress-bar {\n",
       "        background: repeating-linear-gradient(45deg, #7e7e7e, #7e7e7e 10px, #5c5c5c 10px, #5c5c5c 20px);\n",
       "    }\n",
       "    .progress-bar-interrupted, .progress-bar-interrupted::-webkit-progress-bar {\n",
       "        background: #F44336;\n",
       "    }\n",
       "</style>\n"
      ],
      "text/plain": [
       "<IPython.core.display.HTML object>"
      ]
     },
     "metadata": {},
     "output_type": "display_data"
    },
    {
     "data": {
      "text/html": [
       "\n",
       "    <div>\n",
       "      <progress value='589' class='' max='2000' style='width:300px; height:20px; vertical-align: middle;'></progress>\n",
       "      29.45% [589/2000 05:15&lt;12:36 Sampling 2 chains, 0 divergences]\n",
       "    </div>\n",
       "    "
      ],
      "text/plain": [
       "<IPython.core.display.HTML object>"
      ]
     },
     "metadata": {},
     "output_type": "display_data"
    }
   ],
   "source": [
    "# Build and sample from the BNN model\n",
    "bnn_model = construct_bnn()\n",
    "with bnn_model:\n",
    "    trace = pm.sample(500, tune=500)"
   ]
  },
  {
   "cell_type": "code",
   "execution_count": null,
   "id": "73e7fa5d",
   "metadata": {},
   "outputs": [],
   "source": [
    "# Predict using the BNN model\n",
    "X_new = data_new  # Prepare the new input data for prediction\n",
    "X_new = (X_new - X.mean()) / X.std()  # Normalize the new data using the same mean and standard deviation\n",
    "with bnn_model:\n",
    "    ppc = pm.sample_posterior_predictive(trace, samples=100, vars=[output])"
   ]
  },
  {
   "cell_type": "code",
   "execution_count": null,
   "id": "02fe3e16",
   "metadata": {},
   "outputs": [],
   "source": [
    "# Extract the predicted values\n",
    "predicted_values = ppc['y_obs'].mean(axis=0)"
   ]
  },
  {
   "cell_type": "code",
   "execution_count": null,
   "id": "790df558",
   "metadata": {},
   "outputs": [],
   "source": [
    "# Restore the original scale of the predicted values if needed\n",
    "predicted_values = (predicted_values * y.std()) + y.mean()"
   ]
  },
  {
   "cell_type": "code",
   "execution_count": null,
   "id": "3b5659b2",
   "metadata": {},
   "outputs": [],
   "source": [
    "import matplotlib.pyplot as plt\n",
    "\n",
    "# Plot the original and predicted stock prices\n",
    "plt.figure(figsize=(14, 8))\n",
    "plt.plot(data['Date'], data['Close'], label='Actual')\n",
    "plt.plot(data['Date'], predicted_values, label='Predicted')\n",
    "plt.xlabel('Date')\n",
    "plt.ylabel('Stock Price')\n",
    "plt.title('Actual vs Predicted Stock Prices')\n",
    "plt.legend()\n",
    "plt.show()"
   ]
  },
  {
   "cell_type": "code",
   "execution_count": null,
   "id": "5767ccec",
   "metadata": {},
   "outputs": [],
   "source": []
  }
 ],
 "metadata": {
  "kernelspec": {
   "display_name": "Python 3 (ipykernel)",
   "language": "python",
   "name": "python3"
  },
  "language_info": {
   "codemirror_mode": {
    "name": "ipython",
    "version": 3
   },
   "file_extension": ".py",
   "mimetype": "text/x-python",
   "name": "python",
   "nbconvert_exporter": "python",
   "pygments_lexer": "ipython3",
   "version": "3.10.9"
  }
 },
 "nbformat": 4,
 "nbformat_minor": 5
}
